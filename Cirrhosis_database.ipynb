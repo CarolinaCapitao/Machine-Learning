{
 "cells": [
  {
   "cell_type": "markdown",
   "metadata": {},
   "source": [
    "# Database: Cirrhosis Patient Survival Prediction\n",
    "\n",
    "Source: https://archive.ics.uci.edu/dataset/878/cirrhosis+patient+survival+prediction+dataset-1\n",
    "\n",
    "Description: Utilize 17 clinical features for predicting survival state of patients with liver cirrhosis. The survival states include 0 = D (death), 1 = C (censored), 2 = CL (censored due to liver transplantation).\n",
    "\n",
    "\n",
    "### Dataset information\n",
    "\n",
    "*For what purpose was the dataset created?*\n",
    "\n",
    "Cirrhosis results from prolonged liver damage, leading to extensive scarring, often due to conditions like hepatitis or chronic alcohol consumption. The data provided is sourced from a Mayo Clinic study on primary biliary cirrhosis (PBC) of the liver carried out from 1974 to 1984.\n",
    "\n",
    "*Who funded the creation of the dataset?*\n",
    "\n",
    "Mayo Clinic\n",
    "\n",
    "*What do the instances in this dataset represent?*\n",
    "\n",
    "People\n",
    "\n",
    "*Does the dataset contain data that might be considered sensitive in any way?*\n",
    "\n",
    "Gender, Age\n",
    "\n",
    "*Was there any data preprocessing performed?*\n",
    "\n",
    "1. Drop all the rows where miss value (NA) were present in the Drug column\n",
    "2. Impute missing values with mean results\n",
    "3. One-hot encoding for all category attributes\n",
    "\n",
    "*Additional Information*\n",
    "\n",
    "During 1974 to 1984, 424 PBC patients referred to the Mayo Clinic qualified for the randomized placebo-controlled trial testing the drug D-penicillamine. Of these, the initial 312 patients took part in the trial and have mostly comprehensive data. The remaining 112 patients didn't join the clinical trial but agreed to record basic metrics and undergo survival tracking. Six of these patients were soon untraceable after their diagnosis, leaving data for 106 of these individuals in addition to the 312 who were part of the randomized trial.\n",
    "\n",
    "*Has Missing Values?*\n",
    "\n",
    "Yes (symbol: NA)\n",
    "\n",
    "\n"
   ]
  },
  {
   "cell_type": "markdown",
   "metadata": {},
   "source": [
    "### Additional Variable Information\n",
    "1. ID: unique identifier\n",
    "2. N_Days: number of days between registration and the earlier of death, transplantation, or study analysis time in July 1986\n",
    "3. Status: status of the patient C (censored), CL (censored due to liver tx), or D (death)\n",
    "4. Drug: type of drug D-penicillamine or placebo\n",
    "5. Age: age in [days]\n",
    "6. Sex: M (male) or F (female)\n",
    "7. Ascites: presence of ascites N (No) or Y (Yes)\n",
    "8. Hepatomegaly: presence of hepatomegaly N (No) or Y (Yes)\n",
    "9. Spiders: presence of spiders N (No) or Y (Yes)\n",
    "10. Edema: presence of edema N (no edema and no diuretic therapy for edema), S (edema present without diuretics, or edema resolved by diuretics), or Y (edema despite diuretic therapy)\n",
    "11. Bilirubin: serum bilirubin in [mg/dl]\n",
    "12. Cholesterol: serum cholesterol in [mg/dl]\n",
    "13. Albumin: albumin in [gm/dl]\n",
    "14. Copper: urine copper in [ug/day]\n",
    "15. Alk_Phos: alkaline phosphatase in [U/liter]\n",
    "16. SGOT: SGOT in [U/ml]\n",
    "17. Triglycerides: triglicerides in [mg/dl]\n",
    "18. Platelets: platelets per cubic [ml/1000]\n",
    "19. Prothrombin: prothrombin time in seconds [s]\n",
    "20. Stage: histologic stage of disease (1, 2, 3, or 4)\n",
    "\n",
    "*Class Labels*\n",
    "\n",
    "Status: status of the patient 0 = D (death), 1 = C (censored), 2 = CL (censored due to liver transplantation)"
   ]
  },
  {
   "cell_type": "markdown",
   "metadata": {},
   "source": [
    "## Importing and analyse dataset"
   ]
  },
  {
   "cell_type": "code",
   "execution_count": 213,
   "metadata": {},
   "outputs": [],
   "source": [
    "# Packages\n",
    "import pandas as pd\n",
    "import numpy as np\n",
    "import seaborn as sns\n",
    "import matplotlib.pyplot as plt\n",
    "\n",
    "#import os -- did not use\n"
   ]
  },
  {
   "cell_type": "code",
   "execution_count": 136,
   "metadata": {},
   "outputs": [],
   "source": [
    "# Importing CSV\n",
    "db = pd.read_csv('cirrhosis.csv')"
   ]
  },
  {
   "cell_type": "code",
   "execution_count": 137,
   "metadata": {},
   "outputs": [
    {
     "data": {
      "text/plain": [
       "(418, 20)"
      ]
     },
     "execution_count": 137,
     "metadata": {},
     "output_type": "execute_result"
    }
   ],
   "source": [
    "# Dataset dimension\n",
    "db.shape"
   ]
  },
  {
   "cell_type": "code",
   "execution_count": 138,
   "metadata": {},
   "outputs": [
    {
     "name": "stdout",
     "output_type": "stream",
     "text": [
      "<class 'pandas.core.frame.DataFrame'>\n",
      "RangeIndex: 418 entries, 0 to 417\n",
      "Data columns (total 20 columns):\n",
      " #   Column         Non-Null Count  Dtype  \n",
      "---  ------         --------------  -----  \n",
      " 0   ID             418 non-null    int64  \n",
      " 1   N_Days         418 non-null    int64  \n",
      " 2   Status         418 non-null    object \n",
      " 3   Drug           312 non-null    object \n",
      " 4   Age            418 non-null    int64  \n",
      " 5   Sex            418 non-null    object \n",
      " 6   Ascites        312 non-null    object \n",
      " 7   Hepatomegaly   312 non-null    object \n",
      " 8   Spiders        312 non-null    object \n",
      " 9   Edema          418 non-null    object \n",
      " 10  Bilirubin      418 non-null    float64\n",
      " 11  Cholesterol    284 non-null    float64\n",
      " 12  Albumin        418 non-null    float64\n",
      " 13  Copper         310 non-null    float64\n",
      " 14  Alk_Phos       312 non-null    float64\n",
      " 15  SGOT           312 non-null    float64\n",
      " 16  Tryglicerides  282 non-null    float64\n",
      " 17  Platelets      407 non-null    float64\n",
      " 18  Prothrombin    416 non-null    float64\n",
      " 19  Stage          412 non-null    float64\n",
      "dtypes: float64(10), int64(3), object(7)\n",
      "memory usage: 65.4+ KB\n"
     ]
    }
   ],
   "source": [
    "# Dataset information (variables, data types, count of non-nulls)\n",
    "db.info()"
   ]
  },
  {
   "cell_type": "code",
   "execution_count": 139,
   "metadata": {},
   "outputs": [
    {
     "data": {
      "application/vnd.microsoft.datawrangler.viewer.v0+json": {
       "columns": [
        {
         "name": "index",
         "rawType": "int64",
         "type": "integer"
        },
        {
         "name": "ID",
         "rawType": "int64",
         "type": "integer"
        },
        {
         "name": "N_Days",
         "rawType": "int64",
         "type": "integer"
        },
        {
         "name": "Status",
         "rawType": "object",
         "type": "string"
        },
        {
         "name": "Drug",
         "rawType": "object",
         "type": "string"
        },
        {
         "name": "Age",
         "rawType": "int64",
         "type": "integer"
        },
        {
         "name": "Sex",
         "rawType": "object",
         "type": "string"
        },
        {
         "name": "Ascites",
         "rawType": "object",
         "type": "string"
        },
        {
         "name": "Hepatomegaly",
         "rawType": "object",
         "type": "string"
        },
        {
         "name": "Spiders",
         "rawType": "object",
         "type": "string"
        },
        {
         "name": "Edema",
         "rawType": "object",
         "type": "string"
        },
        {
         "name": "Bilirubin",
         "rawType": "float64",
         "type": "float"
        },
        {
         "name": "Cholesterol",
         "rawType": "float64",
         "type": "float"
        },
        {
         "name": "Albumin",
         "rawType": "float64",
         "type": "float"
        },
        {
         "name": "Copper",
         "rawType": "float64",
         "type": "float"
        },
        {
         "name": "Alk_Phos",
         "rawType": "float64",
         "type": "float"
        },
        {
         "name": "SGOT",
         "rawType": "float64",
         "type": "float"
        },
        {
         "name": "Tryglicerides",
         "rawType": "float64",
         "type": "float"
        },
        {
         "name": "Platelets",
         "rawType": "float64",
         "type": "float"
        },
        {
         "name": "Prothrombin",
         "rawType": "float64",
         "type": "float"
        },
        {
         "name": "Stage",
         "rawType": "float64",
         "type": "float"
        }
       ],
       "conversionMethod": "pd.DataFrame",
       "ref": "e4e6f7ed-c488-421f-bdb9-d0cfbafc1751",
       "rows": [
        [
         "0",
         "1",
         "400",
         "D",
         "D-penicillamine",
         "21464",
         "F",
         "Y",
         "Y",
         "Y",
         "Y",
         "14.5",
         "261.0",
         "2.6",
         "156.0",
         "1718.0",
         "137.95",
         "172.0",
         "190.0",
         "12.2",
         "4.0"
        ],
        [
         "1",
         "2",
         "4500",
         "C",
         "D-penicillamine",
         "20617",
         "F",
         "N",
         "Y",
         "Y",
         "N",
         "1.1",
         "302.0",
         "4.14",
         "54.0",
         "7394.8",
         "113.52",
         "88.0",
         "221.0",
         "10.6",
         "3.0"
        ],
        [
         "2",
         "3",
         "1012",
         "D",
         "D-penicillamine",
         "25594",
         "M",
         "N",
         "N",
         "N",
         "S",
         "1.4",
         "176.0",
         "3.48",
         "210.0",
         "516.0",
         "96.1",
         "55.0",
         "151.0",
         "12.0",
         "4.0"
        ],
        [
         "3",
         "4",
         "1925",
         "D",
         "D-penicillamine",
         "19994",
         "F",
         "N",
         "Y",
         "Y",
         "S",
         "1.8",
         "244.0",
         "2.54",
         "64.0",
         "6121.8",
         "60.63",
         "92.0",
         "183.0",
         "10.3",
         "4.0"
        ],
        [
         "4",
         "5",
         "1504",
         "CL",
         "Placebo",
         "13918",
         "F",
         "N",
         "Y",
         "Y",
         "N",
         "3.4",
         "279.0",
         "3.53",
         "143.0",
         "671.0",
         "113.15",
         "72.0",
         "136.0",
         "10.9",
         "3.0"
        ],
        [
         "5",
         "6",
         "2503",
         "D",
         "Placebo",
         "24201",
         "F",
         "N",
         "Y",
         "N",
         "N",
         "0.8",
         "248.0",
         "3.98",
         "50.0",
         "944.0",
         "93.0",
         "63.0",
         null,
         "11.0",
         "3.0"
        ],
        [
         "6",
         "7",
         "1832",
         "C",
         "Placebo",
         "20284",
         "F",
         "N",
         "Y",
         "N",
         "N",
         "1.0",
         "322.0",
         "4.09",
         "52.0",
         "824.0",
         "60.45",
         "213.0",
         "204.0",
         "9.7",
         "3.0"
        ],
        [
         "7",
         "8",
         "2466",
         "D",
         "Placebo",
         "19379",
         "F",
         "N",
         "N",
         "N",
         "N",
         "0.3",
         "280.0",
         "4.0",
         "52.0",
         "4651.2",
         "28.38",
         "189.0",
         "373.0",
         "11.0",
         "3.0"
        ],
        [
         "8",
         "9",
         "2400",
         "D",
         "D-penicillamine",
         "15526",
         "F",
         "N",
         "N",
         "Y",
         "N",
         "3.2",
         "562.0",
         "3.08",
         "79.0",
         "2276.0",
         "144.15",
         "88.0",
         "251.0",
         "11.0",
         "2.0"
        ],
        [
         "9",
         "10",
         "51",
         "D",
         "Placebo",
         "25772",
         "F",
         "Y",
         "N",
         "Y",
         "Y",
         "12.6",
         "200.0",
         "2.74",
         "140.0",
         "918.0",
         "147.25",
         "143.0",
         "302.0",
         "11.5",
         "4.0"
        ],
        [
         "10",
         "11",
         "3762",
         "D",
         "Placebo",
         "19619",
         "F",
         "N",
         "Y",
         "Y",
         "N",
         "1.4",
         "259.0",
         "4.16",
         "46.0",
         "1104.0",
         "79.05",
         "79.0",
         "258.0",
         "12.0",
         "4.0"
        ],
        [
         "11",
         "12",
         "304",
         "D",
         "Placebo",
         "21600",
         "F",
         "N",
         "N",
         "Y",
         "N",
         "3.6",
         "236.0",
         "3.52",
         "94.0",
         "591.0",
         "82.15",
         "95.0",
         "71.0",
         "13.6",
         "4.0"
        ],
        [
         "12",
         "13",
         "3577",
         "C",
         "Placebo",
         "16688",
         "F",
         "N",
         "N",
         "N",
         "N",
         "0.7",
         "281.0",
         "3.85",
         "40.0",
         "1181.0",
         "88.35",
         "130.0",
         "244.0",
         "10.6",
         "3.0"
        ],
        [
         "13",
         "14",
         "1217",
         "D",
         "Placebo",
         "20535",
         "M",
         "Y",
         "Y",
         "N",
         "Y",
         "0.8",
         null,
         "2.27",
         "43.0",
         "728.0",
         "71.0",
         null,
         "156.0",
         "11.0",
         "4.0"
        ],
        [
         "14",
         "15",
         "3584",
         "D",
         "D-penicillamine",
         "23612",
         "F",
         "N",
         "N",
         "N",
         "N",
         "0.8",
         "231.0",
         "3.87",
         "173.0",
         "9009.8",
         "127.71",
         "96.0",
         "295.0",
         "11.0",
         "3.0"
        ]
       ],
       "shape": {
        "columns": 20,
        "rows": 15
       }
      },
      "text/html": [
       "<div>\n",
       "<style scoped>\n",
       "    .dataframe tbody tr th:only-of-type {\n",
       "        vertical-align: middle;\n",
       "    }\n",
       "\n",
       "    .dataframe tbody tr th {\n",
       "        vertical-align: top;\n",
       "    }\n",
       "\n",
       "    .dataframe thead th {\n",
       "        text-align: right;\n",
       "    }\n",
       "</style>\n",
       "<table border=\"1\" class=\"dataframe\">\n",
       "  <thead>\n",
       "    <tr style=\"text-align: right;\">\n",
       "      <th></th>\n",
       "      <th>ID</th>\n",
       "      <th>N_Days</th>\n",
       "      <th>Status</th>\n",
       "      <th>Drug</th>\n",
       "      <th>Age</th>\n",
       "      <th>Sex</th>\n",
       "      <th>Ascites</th>\n",
       "      <th>Hepatomegaly</th>\n",
       "      <th>Spiders</th>\n",
       "      <th>Edema</th>\n",
       "      <th>Bilirubin</th>\n",
       "      <th>Cholesterol</th>\n",
       "      <th>Albumin</th>\n",
       "      <th>Copper</th>\n",
       "      <th>Alk_Phos</th>\n",
       "      <th>SGOT</th>\n",
       "      <th>Tryglicerides</th>\n",
       "      <th>Platelets</th>\n",
       "      <th>Prothrombin</th>\n",
       "      <th>Stage</th>\n",
       "    </tr>\n",
       "  </thead>\n",
       "  <tbody>\n",
       "    <tr>\n",
       "      <th>0</th>\n",
       "      <td>1</td>\n",
       "      <td>400</td>\n",
       "      <td>D</td>\n",
       "      <td>D-penicillamine</td>\n",
       "      <td>21464</td>\n",
       "      <td>F</td>\n",
       "      <td>Y</td>\n",
       "      <td>Y</td>\n",
       "      <td>Y</td>\n",
       "      <td>Y</td>\n",
       "      <td>14.5</td>\n",
       "      <td>261.0</td>\n",
       "      <td>2.60</td>\n",
       "      <td>156.0</td>\n",
       "      <td>1718.0</td>\n",
       "      <td>137.95</td>\n",
       "      <td>172.0</td>\n",
       "      <td>190.0</td>\n",
       "      <td>12.2</td>\n",
       "      <td>4.0</td>\n",
       "    </tr>\n",
       "    <tr>\n",
       "      <th>1</th>\n",
       "      <td>2</td>\n",
       "      <td>4500</td>\n",
       "      <td>C</td>\n",
       "      <td>D-penicillamine</td>\n",
       "      <td>20617</td>\n",
       "      <td>F</td>\n",
       "      <td>N</td>\n",
       "      <td>Y</td>\n",
       "      <td>Y</td>\n",
       "      <td>N</td>\n",
       "      <td>1.1</td>\n",
       "      <td>302.0</td>\n",
       "      <td>4.14</td>\n",
       "      <td>54.0</td>\n",
       "      <td>7394.8</td>\n",
       "      <td>113.52</td>\n",
       "      <td>88.0</td>\n",
       "      <td>221.0</td>\n",
       "      <td>10.6</td>\n",
       "      <td>3.0</td>\n",
       "    </tr>\n",
       "    <tr>\n",
       "      <th>2</th>\n",
       "      <td>3</td>\n",
       "      <td>1012</td>\n",
       "      <td>D</td>\n",
       "      <td>D-penicillamine</td>\n",
       "      <td>25594</td>\n",
       "      <td>M</td>\n",
       "      <td>N</td>\n",
       "      <td>N</td>\n",
       "      <td>N</td>\n",
       "      <td>S</td>\n",
       "      <td>1.4</td>\n",
       "      <td>176.0</td>\n",
       "      <td>3.48</td>\n",
       "      <td>210.0</td>\n",
       "      <td>516.0</td>\n",
       "      <td>96.10</td>\n",
       "      <td>55.0</td>\n",
       "      <td>151.0</td>\n",
       "      <td>12.0</td>\n",
       "      <td>4.0</td>\n",
       "    </tr>\n",
       "    <tr>\n",
       "      <th>3</th>\n",
       "      <td>4</td>\n",
       "      <td>1925</td>\n",
       "      <td>D</td>\n",
       "      <td>D-penicillamine</td>\n",
       "      <td>19994</td>\n",
       "      <td>F</td>\n",
       "      <td>N</td>\n",
       "      <td>Y</td>\n",
       "      <td>Y</td>\n",
       "      <td>S</td>\n",
       "      <td>1.8</td>\n",
       "      <td>244.0</td>\n",
       "      <td>2.54</td>\n",
       "      <td>64.0</td>\n",
       "      <td>6121.8</td>\n",
       "      <td>60.63</td>\n",
       "      <td>92.0</td>\n",
       "      <td>183.0</td>\n",
       "      <td>10.3</td>\n",
       "      <td>4.0</td>\n",
       "    </tr>\n",
       "    <tr>\n",
       "      <th>4</th>\n",
       "      <td>5</td>\n",
       "      <td>1504</td>\n",
       "      <td>CL</td>\n",
       "      <td>Placebo</td>\n",
       "      <td>13918</td>\n",
       "      <td>F</td>\n",
       "      <td>N</td>\n",
       "      <td>Y</td>\n",
       "      <td>Y</td>\n",
       "      <td>N</td>\n",
       "      <td>3.4</td>\n",
       "      <td>279.0</td>\n",
       "      <td>3.53</td>\n",
       "      <td>143.0</td>\n",
       "      <td>671.0</td>\n",
       "      <td>113.15</td>\n",
       "      <td>72.0</td>\n",
       "      <td>136.0</td>\n",
       "      <td>10.9</td>\n",
       "      <td>3.0</td>\n",
       "    </tr>\n",
       "    <tr>\n",
       "      <th>5</th>\n",
       "      <td>6</td>\n",
       "      <td>2503</td>\n",
       "      <td>D</td>\n",
       "      <td>Placebo</td>\n",
       "      <td>24201</td>\n",
       "      <td>F</td>\n",
       "      <td>N</td>\n",
       "      <td>Y</td>\n",
       "      <td>N</td>\n",
       "      <td>N</td>\n",
       "      <td>0.8</td>\n",
       "      <td>248.0</td>\n",
       "      <td>3.98</td>\n",
       "      <td>50.0</td>\n",
       "      <td>944.0</td>\n",
       "      <td>93.00</td>\n",
       "      <td>63.0</td>\n",
       "      <td>NaN</td>\n",
       "      <td>11.0</td>\n",
       "      <td>3.0</td>\n",
       "    </tr>\n",
       "    <tr>\n",
       "      <th>6</th>\n",
       "      <td>7</td>\n",
       "      <td>1832</td>\n",
       "      <td>C</td>\n",
       "      <td>Placebo</td>\n",
       "      <td>20284</td>\n",
       "      <td>F</td>\n",
       "      <td>N</td>\n",
       "      <td>Y</td>\n",
       "      <td>N</td>\n",
       "      <td>N</td>\n",
       "      <td>1.0</td>\n",
       "      <td>322.0</td>\n",
       "      <td>4.09</td>\n",
       "      <td>52.0</td>\n",
       "      <td>824.0</td>\n",
       "      <td>60.45</td>\n",
       "      <td>213.0</td>\n",
       "      <td>204.0</td>\n",
       "      <td>9.7</td>\n",
       "      <td>3.0</td>\n",
       "    </tr>\n",
       "    <tr>\n",
       "      <th>7</th>\n",
       "      <td>8</td>\n",
       "      <td>2466</td>\n",
       "      <td>D</td>\n",
       "      <td>Placebo</td>\n",
       "      <td>19379</td>\n",
       "      <td>F</td>\n",
       "      <td>N</td>\n",
       "      <td>N</td>\n",
       "      <td>N</td>\n",
       "      <td>N</td>\n",
       "      <td>0.3</td>\n",
       "      <td>280.0</td>\n",
       "      <td>4.00</td>\n",
       "      <td>52.0</td>\n",
       "      <td>4651.2</td>\n",
       "      <td>28.38</td>\n",
       "      <td>189.0</td>\n",
       "      <td>373.0</td>\n",
       "      <td>11.0</td>\n",
       "      <td>3.0</td>\n",
       "    </tr>\n",
       "    <tr>\n",
       "      <th>8</th>\n",
       "      <td>9</td>\n",
       "      <td>2400</td>\n",
       "      <td>D</td>\n",
       "      <td>D-penicillamine</td>\n",
       "      <td>15526</td>\n",
       "      <td>F</td>\n",
       "      <td>N</td>\n",
       "      <td>N</td>\n",
       "      <td>Y</td>\n",
       "      <td>N</td>\n",
       "      <td>3.2</td>\n",
       "      <td>562.0</td>\n",
       "      <td>3.08</td>\n",
       "      <td>79.0</td>\n",
       "      <td>2276.0</td>\n",
       "      <td>144.15</td>\n",
       "      <td>88.0</td>\n",
       "      <td>251.0</td>\n",
       "      <td>11.0</td>\n",
       "      <td>2.0</td>\n",
       "    </tr>\n",
       "    <tr>\n",
       "      <th>9</th>\n",
       "      <td>10</td>\n",
       "      <td>51</td>\n",
       "      <td>D</td>\n",
       "      <td>Placebo</td>\n",
       "      <td>25772</td>\n",
       "      <td>F</td>\n",
       "      <td>Y</td>\n",
       "      <td>N</td>\n",
       "      <td>Y</td>\n",
       "      <td>Y</td>\n",
       "      <td>12.6</td>\n",
       "      <td>200.0</td>\n",
       "      <td>2.74</td>\n",
       "      <td>140.0</td>\n",
       "      <td>918.0</td>\n",
       "      <td>147.25</td>\n",
       "      <td>143.0</td>\n",
       "      <td>302.0</td>\n",
       "      <td>11.5</td>\n",
       "      <td>4.0</td>\n",
       "    </tr>\n",
       "    <tr>\n",
       "      <th>10</th>\n",
       "      <td>11</td>\n",
       "      <td>3762</td>\n",
       "      <td>D</td>\n",
       "      <td>Placebo</td>\n",
       "      <td>19619</td>\n",
       "      <td>F</td>\n",
       "      <td>N</td>\n",
       "      <td>Y</td>\n",
       "      <td>Y</td>\n",
       "      <td>N</td>\n",
       "      <td>1.4</td>\n",
       "      <td>259.0</td>\n",
       "      <td>4.16</td>\n",
       "      <td>46.0</td>\n",
       "      <td>1104.0</td>\n",
       "      <td>79.05</td>\n",
       "      <td>79.0</td>\n",
       "      <td>258.0</td>\n",
       "      <td>12.0</td>\n",
       "      <td>4.0</td>\n",
       "    </tr>\n",
       "    <tr>\n",
       "      <th>11</th>\n",
       "      <td>12</td>\n",
       "      <td>304</td>\n",
       "      <td>D</td>\n",
       "      <td>Placebo</td>\n",
       "      <td>21600</td>\n",
       "      <td>F</td>\n",
       "      <td>N</td>\n",
       "      <td>N</td>\n",
       "      <td>Y</td>\n",
       "      <td>N</td>\n",
       "      <td>3.6</td>\n",
       "      <td>236.0</td>\n",
       "      <td>3.52</td>\n",
       "      <td>94.0</td>\n",
       "      <td>591.0</td>\n",
       "      <td>82.15</td>\n",
       "      <td>95.0</td>\n",
       "      <td>71.0</td>\n",
       "      <td>13.6</td>\n",
       "      <td>4.0</td>\n",
       "    </tr>\n",
       "    <tr>\n",
       "      <th>12</th>\n",
       "      <td>13</td>\n",
       "      <td>3577</td>\n",
       "      <td>C</td>\n",
       "      <td>Placebo</td>\n",
       "      <td>16688</td>\n",
       "      <td>F</td>\n",
       "      <td>N</td>\n",
       "      <td>N</td>\n",
       "      <td>N</td>\n",
       "      <td>N</td>\n",
       "      <td>0.7</td>\n",
       "      <td>281.0</td>\n",
       "      <td>3.85</td>\n",
       "      <td>40.0</td>\n",
       "      <td>1181.0</td>\n",
       "      <td>88.35</td>\n",
       "      <td>130.0</td>\n",
       "      <td>244.0</td>\n",
       "      <td>10.6</td>\n",
       "      <td>3.0</td>\n",
       "    </tr>\n",
       "    <tr>\n",
       "      <th>13</th>\n",
       "      <td>14</td>\n",
       "      <td>1217</td>\n",
       "      <td>D</td>\n",
       "      <td>Placebo</td>\n",
       "      <td>20535</td>\n",
       "      <td>M</td>\n",
       "      <td>Y</td>\n",
       "      <td>Y</td>\n",
       "      <td>N</td>\n",
       "      <td>Y</td>\n",
       "      <td>0.8</td>\n",
       "      <td>NaN</td>\n",
       "      <td>2.27</td>\n",
       "      <td>43.0</td>\n",
       "      <td>728.0</td>\n",
       "      <td>71.00</td>\n",
       "      <td>NaN</td>\n",
       "      <td>156.0</td>\n",
       "      <td>11.0</td>\n",
       "      <td>4.0</td>\n",
       "    </tr>\n",
       "    <tr>\n",
       "      <th>14</th>\n",
       "      <td>15</td>\n",
       "      <td>3584</td>\n",
       "      <td>D</td>\n",
       "      <td>D-penicillamine</td>\n",
       "      <td>23612</td>\n",
       "      <td>F</td>\n",
       "      <td>N</td>\n",
       "      <td>N</td>\n",
       "      <td>N</td>\n",
       "      <td>N</td>\n",
       "      <td>0.8</td>\n",
       "      <td>231.0</td>\n",
       "      <td>3.87</td>\n",
       "      <td>173.0</td>\n",
       "      <td>9009.8</td>\n",
       "      <td>127.71</td>\n",
       "      <td>96.0</td>\n",
       "      <td>295.0</td>\n",
       "      <td>11.0</td>\n",
       "      <td>3.0</td>\n",
       "    </tr>\n",
       "  </tbody>\n",
       "</table>\n",
       "</div>"
      ],
      "text/plain": [
       "    ID  N_Days Status             Drug    Age Sex Ascites Hepatomegaly  \\\n",
       "0    1     400      D  D-penicillamine  21464   F       Y            Y   \n",
       "1    2    4500      C  D-penicillamine  20617   F       N            Y   \n",
       "2    3    1012      D  D-penicillamine  25594   M       N            N   \n",
       "3    4    1925      D  D-penicillamine  19994   F       N            Y   \n",
       "4    5    1504     CL          Placebo  13918   F       N            Y   \n",
       "5    6    2503      D          Placebo  24201   F       N            Y   \n",
       "6    7    1832      C          Placebo  20284   F       N            Y   \n",
       "7    8    2466      D          Placebo  19379   F       N            N   \n",
       "8    9    2400      D  D-penicillamine  15526   F       N            N   \n",
       "9   10      51      D          Placebo  25772   F       Y            N   \n",
       "10  11    3762      D          Placebo  19619   F       N            Y   \n",
       "11  12     304      D          Placebo  21600   F       N            N   \n",
       "12  13    3577      C          Placebo  16688   F       N            N   \n",
       "13  14    1217      D          Placebo  20535   M       Y            Y   \n",
       "14  15    3584      D  D-penicillamine  23612   F       N            N   \n",
       "\n",
       "   Spiders Edema  Bilirubin  Cholesterol  Albumin  Copper  Alk_Phos    SGOT  \\\n",
       "0        Y     Y       14.5        261.0     2.60   156.0    1718.0  137.95   \n",
       "1        Y     N        1.1        302.0     4.14    54.0    7394.8  113.52   \n",
       "2        N     S        1.4        176.0     3.48   210.0     516.0   96.10   \n",
       "3        Y     S        1.8        244.0     2.54    64.0    6121.8   60.63   \n",
       "4        Y     N        3.4        279.0     3.53   143.0     671.0  113.15   \n",
       "5        N     N        0.8        248.0     3.98    50.0     944.0   93.00   \n",
       "6        N     N        1.0        322.0     4.09    52.0     824.0   60.45   \n",
       "7        N     N        0.3        280.0     4.00    52.0    4651.2   28.38   \n",
       "8        Y     N        3.2        562.0     3.08    79.0    2276.0  144.15   \n",
       "9        Y     Y       12.6        200.0     2.74   140.0     918.0  147.25   \n",
       "10       Y     N        1.4        259.0     4.16    46.0    1104.0   79.05   \n",
       "11       Y     N        3.6        236.0     3.52    94.0     591.0   82.15   \n",
       "12       N     N        0.7        281.0     3.85    40.0    1181.0   88.35   \n",
       "13       N     Y        0.8          NaN     2.27    43.0     728.0   71.00   \n",
       "14       N     N        0.8        231.0     3.87   173.0    9009.8  127.71   \n",
       "\n",
       "    Tryglicerides  Platelets  Prothrombin  Stage  \n",
       "0           172.0      190.0         12.2    4.0  \n",
       "1            88.0      221.0         10.6    3.0  \n",
       "2            55.0      151.0         12.0    4.0  \n",
       "3            92.0      183.0         10.3    4.0  \n",
       "4            72.0      136.0         10.9    3.0  \n",
       "5            63.0        NaN         11.0    3.0  \n",
       "6           213.0      204.0          9.7    3.0  \n",
       "7           189.0      373.0         11.0    3.0  \n",
       "8            88.0      251.0         11.0    2.0  \n",
       "9           143.0      302.0         11.5    4.0  \n",
       "10           79.0      258.0         12.0    4.0  \n",
       "11           95.0       71.0         13.6    4.0  \n",
       "12          130.0      244.0         10.6    3.0  \n",
       "13            NaN      156.0         11.0    4.0  \n",
       "14           96.0      295.0         11.0    3.0  "
      ]
     },
     "execution_count": 139,
     "metadata": {},
     "output_type": "execute_result"
    }
   ],
   "source": [
    "# View first 15 rows\n",
    "db.head(15)"
   ]
  },
  {
   "cell_type": "code",
   "execution_count": 140,
   "metadata": {},
   "outputs": [
    {
     "data": {
      "text/plain": [
       "ID   N_Days  Status  Drug             Age    Sex  Ascites  Hepatomegaly  Spiders  Edema  Bilirubin  Cholesterol  Albumin  Copper  Alk_Phos  SGOT    Tryglicerides  Platelets  Prothrombin  Stage\n",
       "1    400     D       D-penicillamine  21464  F    Y        Y             Y        Y      14.5       261.0        2.60     156.0   1718.0    137.95  172.0          190.0      12.2         4.0      1\n",
       "213  2178    C       D-penicillamine  18337  F    N        N             Y        N      0.5        400.0        3.40     9.0     1134.0    96.10   55.0           356.0      10.2         3.0      1\n",
       "221  2050    C       Placebo          20684  F    N        Y             N        N      0.9        360.0        3.65     72.0    3186.0    94.55   154.0          269.0      9.7          4.0      1\n",
       "220  1235    D       D-penicillamine  23241  F    N        N             Y        N      3.8        426.0        3.22     96.0    2716.0    210.80  113.0          228.0      10.6         2.0      1\n",
       "219  2157    C       Placebo          15601  F    N        N             N        N      1.6        215.0        4.17     67.0    936.0     134.85  85.0           176.0      9.6          3.0      1\n",
       "                                                                                                                                                                                                   ..\n",
       "111  2350    CL      D-penicillamine  15031  F    N        N             N        N      5.5        528.0        4.18     77.0    2404.0    172.05  78.0           467.0      10.7         3.0      1\n",
       "112  3445    D       Placebo          20256  F    N        Y             Y        N      2.0        267.0        3.67     89.0    754.0     196.85  90.0           136.0      11.8         4.0      1\n",
       "113  980     D       D-penicillamine  18713  F    N        Y             Y        N      6.7        374.0        3.74     103.0   979.0     128.65  100.0          266.0      11.1         4.0      1\n",
       "114  3395    D       Placebo          19295  M    N        N             N        N      3.2        259.0        4.30     208.0   1040.0    110.05  78.0           268.0      11.7         3.0      1\n",
       "312  788     C       Placebo          12109  F    N        N             Y        N      6.4        576.0        3.79     186.0   2115.0    136.00  149.0          200.0      10.8         2.0      1\n",
       "Name: count, Length: 276, dtype: int64"
      ]
     },
     "execution_count": 140,
     "metadata": {},
     "output_type": "execute_result"
    }
   ],
   "source": [
    "# Count unique rows\n",
    "db.value_counts()\n",
    "\n"
   ]
  },
  {
   "cell_type": "code",
   "execution_count": 141,
   "metadata": {},
   "outputs": [
    {
     "data": {
      "text/plain": [
       "0"
      ]
     },
     "execution_count": 141,
     "metadata": {},
     "output_type": "execute_result"
    }
   ],
   "source": [
    "# Count duplicate rows\n",
    "db.duplicated().sum()\n",
    "\n",
    "# db[db.duplicated()] --> Show duplicate rows (excluding the first occurrence)\n",
    "\n",
    "# db = db.drop_duplicates() --> # Drop duplicate rows from the DataFrame"
   ]
  },
  {
   "cell_type": "code",
   "execution_count": 142,
   "metadata": {},
   "outputs": [
    {
     "data": {
      "text/plain": [
       "276"
      ]
     },
     "execution_count": 142,
     "metadata": {},
     "output_type": "execute_result"
    }
   ],
   "source": [
    "# Count rows without missings\n",
    "db.dropna().shape[0]"
   ]
  },
  {
   "cell_type": "code",
   "execution_count": 143,
   "metadata": {},
   "outputs": [
    {
     "data": {
      "text/plain": [
       "ID   N_Days  Status  Drug             Age    Sex  Ascites  Hepatomegaly  Spiders  Edema  Bilirubin  Cholesterol  Albumin  Copper  Alk_Phos  SGOT    Tryglicerides  Platelets  Prothrombin  Stage\n",
       "1    400     D       D-penicillamine  21464  F    Y        Y             Y        Y      14.5       261.0        2.60     156.0   1718.0    137.95  172.0          190.0      12.2         4.0      1\n",
       "213  2178    C       D-penicillamine  18337  F    N        N             Y        N      0.5        400.0        3.40     9.0     1134.0    96.10   55.0           356.0      10.2         3.0      1\n",
       "221  2050    C       Placebo          20684  F    N        Y             N        N      0.9        360.0        3.65     72.0    3186.0    94.55   154.0          269.0      9.7          4.0      1\n",
       "220  1235    D       D-penicillamine  23241  F    N        N             Y        N      3.8        426.0        3.22     96.0    2716.0    210.80  113.0          228.0      10.6         2.0      1\n",
       "219  2157    C       Placebo          15601  F    N        N             N        N      1.6        215.0        4.17     67.0    936.0     134.85  85.0           176.0      9.6          3.0      1\n",
       "                                                                                                                                                                                                   ..\n",
       "111  2350    CL      D-penicillamine  15031  F    N        N             N        N      5.5        528.0        4.18     77.0    2404.0    172.05  78.0           467.0      10.7         3.0      1\n",
       "112  3445    D       Placebo          20256  F    N        Y             Y        N      2.0        267.0        3.67     89.0    754.0     196.85  90.0           136.0      11.8         4.0      1\n",
       "113  980     D       D-penicillamine  18713  F    N        Y             Y        N      6.7        374.0        3.74     103.0   979.0     128.65  100.0          266.0      11.1         4.0      1\n",
       "114  3395    D       Placebo          19295  M    N        N             N        N      3.2        259.0        4.30     208.0   1040.0    110.05  78.0           268.0      11.7         3.0      1\n",
       "312  788     C       Placebo          12109  F    N        N             Y        N      6.4        576.0        3.79     186.0   2115.0    136.00  149.0          200.0      10.8         2.0      1\n",
       "Name: count, Length: 276, dtype: int64"
      ]
     },
     "execution_count": 143,
     "metadata": {},
     "output_type": "execute_result"
    }
   ],
   "source": [
    "# Count occurrences of complete (non-missing) unique rows\n",
    "db.value_counts()"
   ]
  },
  {
   "cell_type": "code",
   "execution_count": 144,
   "metadata": {},
   "outputs": [
    {
     "data": {
      "text/plain": [
       "ID                 0\n",
       "N_Days             0\n",
       "Status             0\n",
       "Drug             106\n",
       "Age                0\n",
       "Sex                0\n",
       "Ascites          106\n",
       "Hepatomegaly     106\n",
       "Spiders          106\n",
       "Edema              0\n",
       "Bilirubin          0\n",
       "Cholesterol      134\n",
       "Albumin            0\n",
       "Copper           108\n",
       "Alk_Phos         106\n",
       "SGOT             106\n",
       "Tryglicerides    136\n",
       "Platelets         11\n",
       "Prothrombin        2\n",
       "Stage              6\n",
       "dtype: int64"
      ]
     },
     "execution_count": 144,
     "metadata": {},
     "output_type": "execute_result"
    }
   ],
   "source": [
    "# Count missings for each variable (both isna() and isnull() work the same)\n",
    "db.isna().sum()\n",
    "db.isnull().sum()"
   ]
  },
  {
   "cell_type": "code",
   "execution_count": 145,
   "metadata": {},
   "outputs": [
    {
     "data": {
      "text/plain": [
       "ID                0.0\n",
       "N_Days            0.0\n",
       "Status            0.0\n",
       "Drug             25.4\n",
       "Age               0.0\n",
       "Sex               0.0\n",
       "Ascites          25.4\n",
       "Hepatomegaly     25.4\n",
       "Spiders          25.4\n",
       "Edema             0.0\n",
       "Bilirubin         0.0\n",
       "Cholesterol      32.1\n",
       "Albumin           0.0\n",
       "Copper           25.8\n",
       "Alk_Phos         25.4\n",
       "SGOT             25.4\n",
       "Tryglicerides    32.5\n",
       "Platelets         2.6\n",
       "Prothrombin       0.5\n",
       "Stage             1.4\n",
       "dtype: float64"
      ]
     },
     "execution_count": 145,
     "metadata": {},
     "output_type": "execute_result"
    }
   ],
   "source": [
    "# Relative frequency of missing values in each variable\n",
    "db.isnull().sum()/len(db)\n",
    "\n",
    "# Percentage of missing values in each variable\n",
    "(db.isnull().sum() / len(db) * 100).round(1)"
   ]
  },
  {
   "cell_type": "markdown",
   "metadata": {},
   "source": [
    "### Analysing specific variables"
   ]
  },
  {
   "cell_type": "code",
   "execution_count": 146,
   "metadata": {},
   "outputs": [
    {
     "data": {
      "text/plain": [
       "Status\n",
       "C     232\n",
       "D     161\n",
       "CL     25\n",
       "Name: count, dtype: int64"
      ]
     },
     "execution_count": 146,
     "metadata": {},
     "output_type": "execute_result"
    }
   ],
   "source": [
    "# Survival Status frequencies\n",
    "# 0 = D (death), 1 = C (censored), 2 = CL (censored due to liver transplantation)\n",
    "db['Status'].value_counts()"
   ]
  },
  {
   "cell_type": "code",
   "execution_count": 147,
   "metadata": {},
   "outputs": [
    {
     "data": {
      "text/plain": [
       "Status\n",
       "C     0.555024\n",
       "D     0.385167\n",
       "CL    0.059809\n",
       "Name: proportion, dtype: float64"
      ]
     },
     "execution_count": 147,
     "metadata": {},
     "output_type": "execute_result"
    }
   ],
   "source": [
    "# Survival Status relative frequencies\n",
    "db['Status'].value_counts(normalize=True)"
   ]
  },
  {
   "cell_type": "code",
   "execution_count": 148,
   "metadata": {},
   "outputs": [
    {
     "name": "stderr",
     "output_type": "stream",
     "text": [
      "/var/folders/bq/987lp2792g18zw0p8p6y6jlh0000gn/T/ipykernel_80942/2553106446.py:7: UserWarning: set_ticklabels() should only be used with a fixed number of ticks, i.e. after set_ticks() or using a FixedLocator.\n",
      "  ax.set_xticklabels(['Death', 'Censored', 'Censored due to\\nliver transplantation'])\n"
     ]
    },
    {
     "data": {
      "image/png": "[encoded data removed]",
      "text/plain": [
       "<Figure size 640x480 with 1 Axes>"
      ]
     },
     "metadata": {},
     "output_type": "display_data"
    }
   ],
   "source": [
    "# Countplot for Survival Status distribution\n",
    "ax = sns.countplot(x='Status', data=db)\n",
    "\n",
    "plt.title(\"Survival Status Distribution\")\n",
    "plt.xlabel('Survival status')\n",
    "plt.ylabel('Count')\n",
    "ax.set_xticklabels(['Death', 'Censored', 'Censored due to\\nliver transplantation'])\n",
    "plt.show()\n"
   ]
  },
  {
   "cell_type": "code",
   "execution_count": 149,
   "metadata": {},
   "outputs": [
    {
     "data": {
      "text/plain": [
       "Drug\n",
       "D-penicillamine    158\n",
       "Placebo            154\n",
       "NaN                106\n",
       "Name: count, dtype: int64"
      ]
     },
     "execution_count": 149,
     "metadata": {},
     "output_type": "execute_result"
    }
   ],
   "source": [
    "# Count without droping missing values\n",
    "db['Drug'].value_counts(dropna=False)"
   ]
  },
  {
   "cell_type": "markdown",
   "metadata": {},
   "source": [
    "# Remove rows with missing values in the 'Drug' variable"
   ]
  },
  {
   "cell_type": "code",
   "execution_count": 150,
   "metadata": {},
   "outputs": [
    {
     "data": {
      "text/plain": [
       "106"
      ]
     },
     "execution_count": 150,
     "metadata": {},
     "output_type": "execute_result"
    }
   ],
   "source": [
    "# Count missing values in Drug column\n",
    "db['Drug'].isna().sum()"
   ]
  },
  {
   "cell_type": "code",
   "execution_count": 151,
   "metadata": {},
   "outputs": [],
   "source": [
    "# Remove rows with missing values in the 'Drug' column\n",
    "db = db[db['Drug'].notna()]\n",
    "\n",
    "db = db.dropna(subset=['Drug'])"
   ]
  },
  {
   "cell_type": "markdown",
   "metadata": {},
   "source": [
    "## Encoding"
   ]
  },
  {
   "cell_type": "code",
   "execution_count": 176,
   "metadata": {},
   "outputs": [
    {
     "data": {
      "text/plain": [
       "Status\n",
       "0    125\n",
       "1    168\n",
       "2     19\n",
       "Name: count, dtype: int64"
      ]
     },
     "execution_count": 176,
     "metadata": {},
     "output_type": "execute_result"
    }
   ],
   "source": [
    "# Encoding Survival Status: D = 0 (Death), C = 1 (Censored), CL = 2 (Censored due to liver transplantation)\n",
    "db['Status']=db['Status'].replace({'D':0, 'C':1, 'CL':2}).astype('int')\n",
    "db['Status'].value_counts(dropna=False).sort_index()"
   ]
  },
  {
   "cell_type": "code",
   "execution_count": 175,
   "metadata": {},
   "outputs": [
    {
     "data": {
      "text/plain": [
       "Drug\n",
       "0    154\n",
       "1    158\n",
       "Name: count, dtype: int64"
      ]
     },
     "execution_count": 175,
     "metadata": {},
     "output_type": "execute_result"
    }
   ],
   "source": [
    "# Encoding Drug: Placebo = 0, D-penicillamine = 1\n",
    "db['Drug']=db['Drug'].replace({'Placebo':0, 'D-penicillamine':1,}).astype('int')\n",
    "\n",
    "db['Drug'].value_counts(dropna=False).sort_index()"
   ]
  },
  {
   "cell_type": "code",
   "execution_count": 174,
   "metadata": {},
   "outputs": [
    {
     "data": {
      "text/plain": [
       "Sex\n",
       "0     36\n",
       "1    276\n",
       "Name: count, dtype: int64"
      ]
     },
     "execution_count": 174,
     "metadata": {},
     "output_type": "execute_result"
    }
   ],
   "source": [
    "# Encoding Sex as binary: M = 0 (Male), F = 1 (Female)\n",
    "db['Sex']=db['Sex'].replace({'M':0, 'F':1}).astype('int')\n",
    "db['Sex'].value_counts(dropna=False).sort_index()"
   ]
  },
  {
   "cell_type": "code",
   "execution_count": 162,
   "metadata": {},
   "outputs": [
    {
     "data": {
      "application/vnd.microsoft.datawrangler.viewer.v0+json": {
       "columns": [
        {
         "name": "index",
         "rawType": "int64",
         "type": "integer"
        },
        {
         "name": "Ascites",
         "rawType": "int64",
         "type": "integer"
        },
        {
         "name": "Hepatomegaly",
         "rawType": "int64",
         "type": "integer"
        },
        {
         "name": "Spiders",
         "rawType": "int64",
         "type": "integer"
        }
       ],
       "conversionMethod": "pd.DataFrame",
       "ref": "acbd2e24-9d88-4792-9f10-0b4121fb55a4",
       "rows": [
        [
         "0",
         "288",
         "152",
         "222"
        ],
        [
         "1",
         "24",
         "160",
         "90"
        ]
       ],
       "shape": {
        "columns": 3,
        "rows": 2
       }
      },
      "text/html": [
       "<div>\n",
       "<style scoped>\n",
       "    .dataframe tbody tr th:only-of-type {\n",
       "        vertical-align: middle;\n",
       "    }\n",
       "\n",
       "    .dataframe tbody tr th {\n",
       "        vertical-align: top;\n",
       "    }\n",
       "\n",
       "    .dataframe thead th {\n",
       "        text-align: right;\n",
       "    }\n",
       "</style>\n",
       "<table border=\"1\" class=\"dataframe\">\n",
       "  <thead>\n",
       "    <tr style=\"text-align: right;\">\n",
       "      <th></th>\n",
       "      <th>Ascites</th>\n",
       "      <th>Hepatomegaly</th>\n",
       "      <th>Spiders</th>\n",
       "    </tr>\n",
       "  </thead>\n",
       "  <tbody>\n",
       "    <tr>\n",
       "      <th>0</th>\n",
       "      <td>288</td>\n",
       "      <td>152</td>\n",
       "      <td>222</td>\n",
       "    </tr>\n",
       "    <tr>\n",
       "      <th>1</th>\n",
       "      <td>24</td>\n",
       "      <td>160</td>\n",
       "      <td>90</td>\n",
       "    </tr>\n",
       "  </tbody>\n",
       "</table>\n",
       "</div>"
      ],
      "text/plain": [
       "   Ascites  Hepatomegaly  Spiders\n",
       "0      288           152      222\n",
       "1       24           160       90"
      ]
     },
     "execution_count": 162,
     "metadata": {},
     "output_type": "execute_result"
    }
   ],
   "source": [
    "# Encode selected Y/N variables to binary: N = 0, Y = 1\n",
    "cols_yn = ['Ascites', 'Hepatomegaly', 'Spiders'] \n",
    "\n",
    "db[cols_yn]=db[cols_yn].replace({'N':0, 'Y':1})\n",
    "db[cols_yn] = db[cols_yn].astype(int)  # Safe cast since no missing values\n",
    "\n",
    "db[cols_yn].apply(pd.Series.value_counts)"
   ]
  },
  {
   "cell_type": "code",
   "execution_count": 173,
   "metadata": {},
   "outputs": [
    {
     "data": {
      "text/plain": [
       "Edema\n",
       "0    263\n",
       "1     29\n",
       "2     20\n",
       "Name: count, dtype: int64"
      ]
     },
     "execution_count": 173,
     "metadata": {},
     "output_type": "execute_result"
    }
   ],
   "source": [
    "# Encode Edema: \n",
    "# N = 0 → No edema and no diuretic therapy for edema\n",
    "# S = 1 → Edema present without diuretics, or resolved by diuretics\n",
    "# Y = 2 → Edema despite diuretic therapy\n",
    "db['Edema'] = db['Edema'].replace({'N': 0, 'S': 1, 'Y': 2}).astype('int')\n",
    "db['Edema'].value_counts(dropna=False)\n"
   ]
  },
  {
   "cell_type": "code",
   "execution_count": 198,
   "metadata": {},
   "outputs": [
    {
     "name": "stdout",
     "output_type": "stream",
     "text": [
      "0\n"
     ]
    }
   ],
   "source": [
    "# Check for missing values in Stage\n",
    "print(db['Stage'].isna().sum())\n",
    "\n",
    "# Change Stage datatype \n",
    "db['Stage'] = db['Stage'].astype('int')"
   ]
  },
  {
   "cell_type": "code",
   "execution_count": 197,
   "metadata": {},
   "outputs": [
    {
     "name": "stdout",
     "output_type": "stream",
     "text": [
      "<class 'pandas.core.frame.DataFrame'>\n",
      "Index: 312 entries, 0 to 311\n",
      "Data columns (total 20 columns):\n",
      " #   Column         Non-Null Count  Dtype  \n",
      "---  ------         --------------  -----  \n",
      " 0   ID             312 non-null    int64  \n",
      " 1   N_Days         312 non-null    int64  \n",
      " 2   Status         312 non-null    int64  \n",
      " 3   Drug           312 non-null    int64  \n",
      " 4   Age            312 non-null    int64  \n",
      " 5   Sex            312 non-null    int64  \n",
      " 6   Ascites        312 non-null    int64  \n",
      " 7   Hepatomegaly   312 non-null    int64  \n",
      " 8   Spiders        312 non-null    int64  \n",
      " 9   Edema          312 non-null    int64  \n",
      " 10  Bilirubin      312 non-null    float64\n",
      " 11  Cholesterol    312 non-null    float64\n",
      " 12  Albumin        312 non-null    float64\n",
      " 13  Copper         312 non-null    float64\n",
      " 14  Alk_Phos       312 non-null    float64\n",
      " 15  SGOT           312 non-null    float64\n",
      " 16  Tryglicerides  312 non-null    float64\n",
      " 17  Platelets      312 non-null    float64\n",
      " 18  Prothrombin    312 non-null    float64\n",
      " 19  Stage          312 non-null    int64  \n",
      "dtypes: float64(9), int64(11)\n",
      "memory usage: 51.2 KB\n"
     ]
    }
   ],
   "source": [
    "# Check database info\n",
    "\n",
    "db.info()"
   ]
  },
  {
   "cell_type": "markdown",
   "metadata": {},
   "source": [
    "## Mssing data imputation"
   ]
  },
  {
   "cell_type": "code",
   "execution_count": 158,
   "metadata": {},
   "outputs": [
    {
     "data": {
      "application/vnd.microsoft.datawrangler.viewer.v0+json": {
       "columns": [
        {
         "name": "index",
         "rawType": "int64",
         "type": "integer"
        },
        {
         "name": "Variable",
         "rawType": "object",
         "type": "string"
        },
        {
         "name": "Missing (%)",
         "rawType": "float64",
         "type": "float"
        }
       ],
       "conversionMethod": "pd.DataFrame",
       "ref": "3d15fc3c-3126-48cd-a420-f09794da124d",
       "rows": [
        [
         "11",
         "Cholesterol",
         "0.08974358974358974"
        ],
        [
         "13",
         "Copper",
         "0.00641025641025641"
        ],
        [
         "16",
         "Tryglicerides",
         "0.09615384615384616"
        ],
        [
         "17",
         "Platelets",
         "0.01282051282051282"
        ]
       ],
       "shape": {
        "columns": 2,
        "rows": 4
       }
      },
      "text/html": [
       "<div>\n",
       "<style scoped>\n",
       "    .dataframe tbody tr th:only-of-type {\n",
       "        vertical-align: middle;\n",
       "    }\n",
       "\n",
       "    .dataframe tbody tr th {\n",
       "        vertical-align: top;\n",
       "    }\n",
       "\n",
       "    .dataframe thead th {\n",
       "        text-align: right;\n",
       "    }\n",
       "</style>\n",
       "<table border=\"1\" class=\"dataframe\">\n",
       "  <thead>\n",
       "    <tr style=\"text-align: right;\">\n",
       "      <th></th>\n",
       "      <th>Variable</th>\n",
       "      <th>Missing (%)</th>\n",
       "    </tr>\n",
       "  </thead>\n",
       "  <tbody>\n",
       "    <tr>\n",
       "      <th>11</th>\n",
       "      <td>Cholesterol</td>\n",
       "      <td>0.089744</td>\n",
       "    </tr>\n",
       "    <tr>\n",
       "      <th>13</th>\n",
       "      <td>Copper</td>\n",
       "      <td>0.006410</td>\n",
       "    </tr>\n",
       "    <tr>\n",
       "      <th>16</th>\n",
       "      <td>Tryglicerides</td>\n",
       "      <td>0.096154</td>\n",
       "    </tr>\n",
       "    <tr>\n",
       "      <th>17</th>\n",
       "      <td>Platelets</td>\n",
       "      <td>0.012821</td>\n",
       "    </tr>\n",
       "  </tbody>\n",
       "</table>\n",
       "</div>"
      ],
      "text/plain": [
       "         Variable  Missing (%)\n",
       "11    Cholesterol     0.089744\n",
       "13         Copper     0.006410\n",
       "16  Tryglicerides     0.096154\n",
       "17      Platelets     0.012821"
      ]
     },
     "execution_count": 158,
     "metadata": {},
     "output_type": "execute_result"
    }
   ],
   "source": [
    "# Identify variables with missing values\n",
    "missing_df = pd.DataFrame(db.isnull().mean(), columns=[\"Missing (%)\"])\n",
    "missing_df = missing_df.reset_index().rename(columns={\"index\": \"Variable\"})\n",
    "missing_df = missing_df[missing_df[\"Missing (%)\"] > 0]\n",
    "missing_df"
   ]
  },
  {
   "cell_type": "code",
   "execution_count": 165,
   "metadata": {},
   "outputs": [],
   "source": [
    "# Impute missing values using mean for continuous variables, and mode for categorical ones\n",
    "\n",
    "# Loop through variables with missing values\n",
    "for var in missing_df[\"Variable\"]:\n",
    "    db[var] = db[var].fillna(db[var].mean())"
   ]
  },
  {
   "cell_type": "code",
   "execution_count": null,
   "metadata": {},
   "outputs": [
    {
     "data": {
      "text/plain": [
       "ID               0\n",
       "N_Days           0\n",
       "Status           0\n",
       "Drug             0\n",
       "Age              0\n",
       "Sex              0\n",
       "Ascites          0\n",
       "Hepatomegaly     0\n",
       "Spiders          0\n",
       "Edema            0\n",
       "Bilirubin        0\n",
       "Cholesterol      0\n",
       "Albumin          0\n",
       "Copper           0\n",
       "Alk_Phos         0\n",
       "SGOT             0\n",
       "Tryglicerides    0\n",
       "Platelets        0\n",
       "Prothrombin      0\n",
       "Stage            0\n",
       "dtype: int64"
      ]
     },
     "execution_count": 166,
     "metadata": {},
     "output_type": "execute_result"
    }
   ],
   "source": [
    "# Count missing values for each variable\n",
    "db.isna().sum()"
   ]
  },
  {
   "cell_type": "code",
   "execution_count": 169,
   "metadata": {},
   "outputs": [
    {
     "name": "stdout",
     "output_type": "stream",
     "text": [
      "<class 'pandas.core.frame.DataFrame'>\n",
      "Index: 312 entries, 0 to 311\n",
      "Data columns (total 20 columns):\n",
      " #   Column         Non-Null Count  Dtype  \n",
      "---  ------         --------------  -----  \n",
      " 0   ID             312 non-null    int64  \n",
      " 1   N_Days         312 non-null    int64  \n",
      " 2   Status         312 non-null    int64  \n",
      " 3   Drug           312 non-null    int8   \n",
      " 4   Age            312 non-null    int64  \n",
      " 5   Sex            312 non-null    int8   \n",
      " 6   Ascites        312 non-null    int64  \n",
      " 7   Hepatomegaly   312 non-null    int64  \n",
      " 8   Spiders        312 non-null    int64  \n",
      " 9   Edema          312 non-null    int8   \n",
      " 10  Bilirubin      312 non-null    float64\n",
      " 11  Cholesterol    312 non-null    float64\n",
      " 12  Albumin        312 non-null    float64\n",
      " 13  Copper         312 non-null    float64\n",
      " 14  Alk_Phos       312 non-null    float64\n",
      " 15  SGOT           312 non-null    float64\n",
      " 16  Tryglicerides  312 non-null    float64\n",
      " 17  Platelets      312 non-null    float64\n",
      " 18  Prothrombin    312 non-null    float64\n",
      " 19  Stage          312 non-null    float64\n",
      "dtypes: float64(10), int64(7), int8(3)\n",
      "memory usage: 44.8 KB\n"
     ]
    }
   ],
   "source": [
    "db.info()"
   ]
  },
  {
   "cell_type": "code",
   "execution_count": 168,
   "metadata": {},
   "outputs": [
    {
     "data": {
      "text/plain": [
       "ID               312\n",
       "N_Days           301\n",
       "Status             3\n",
       "Drug               2\n",
       "Age              308\n",
       "Sex                2\n",
       "Ascites            2\n",
       "Hepatomegaly       2\n",
       "Spiders            2\n",
       "Edema              3\n",
       "Bilirubin         85\n",
       "Cholesterol      202\n",
       "Albumin          135\n",
       "Copper           159\n",
       "Alk_Phos         295\n",
       "SGOT             179\n",
       "Tryglicerides    147\n",
       "Platelets        211\n",
       "Prothrombin       44\n",
       "Stage              4\n",
       "dtype: int64"
      ]
     },
     "execution_count": 168,
     "metadata": {},
     "output_type": "execute_result"
    }
   ],
   "source": [
    "# Count unique values in each variable\n",
    "db.nunique() "
   ]
  },
  {
   "cell_type": "code",
   "execution_count": 179,
   "metadata": {},
   "outputs": [
    {
     "data": {
      "text/plain": [
       "ID               8.138000e+03\n",
       "N_Days           1.261760e+06\n",
       "Status           3.472257e-01\n",
       "Drug             2.507626e-01\n",
       "Age              1.493672e+07\n",
       "Sex              1.023992e-01\n",
       "Ascites          7.123423e-02\n",
       "Hepatomegaly     2.506390e-01\n",
       "Spiders          2.059115e-01\n",
       "Edema            3.014160e-01\n",
       "Bilirubin        2.052376e+01\n",
       "Cholesterol      4.895470e+04\n",
       "Albumin          1.763093e-01\n",
       "Copper           7.282607e+03\n",
       "Alk_Phos         4.581264e+06\n",
       "SGOT             3.214836e+03\n",
       "Tryglicerides    3.834923e+03\n",
       "Platelets        9.023462e+03\n",
       "Prothrombin      1.008665e+00\n",
       "Stage            7.706736e-01\n",
       "dtype: float64"
      ]
     },
     "execution_count": 179,
     "metadata": {},
     "output_type": "execute_result"
    }
   ],
   "source": [
    "# Remove variables (columns) where more than 99% of the values are identical\n",
    "# The higher the variance, the more dispersed the data is\n",
    "\n",
    "variance = db.var()\n",
    "variance"
   ]
  },
  {
   "cell_type": "markdown",
   "metadata": {},
   "source": [
    "## Drop variables with more than 99% identical values (very low variance)"
   ]
  },
  {
   "cell_type": "code",
   "execution_count": 193,
   "metadata": {},
   "outputs": [
    {
     "data": {
      "text/plain": [
       "[]"
      ]
     },
     "execution_count": 193,
     "metadata": {},
     "output_type": "execute_result"
    }
   ],
   "source": [
    "# Get a list of variables with more than 99% identical values (very low variance)\n",
    "# Using .items() to iterate over column names and variances\n",
    "low_variance_vars = [col for col, var in variance.items() if var <= 0.01]\n",
    "\n",
    "low_variance_vars\n"
   ]
  },
  {
   "cell_type": "code",
   "execution_count": null,
   "metadata": {},
   "outputs": [],
   "source": [
    "# Drop low-variance variables from the dataset\n",
    "db = db.drop(columns=low_variance_vars)"
   ]
  },
  {
   "cell_type": "code",
   "execution_count": 195,
   "metadata": {},
   "outputs": [
    {
     "name": "stdout",
     "output_type": "stream",
     "text": [
      "<class 'pandas.core.frame.DataFrame'>\n",
      "Index: 312 entries, 0 to 311\n",
      "Data columns (total 20 columns):\n",
      " #   Column         Non-Null Count  Dtype  \n",
      "---  ------         --------------  -----  \n",
      " 0   ID             312 non-null    int64  \n",
      " 1   N_Days         312 non-null    int64  \n",
      " 2   Status         312 non-null    int64  \n",
      " 3   Drug           312 non-null    int64  \n",
      " 4   Age            312 non-null    int64  \n",
      " 5   Sex            312 non-null    int64  \n",
      " 6   Ascites        312 non-null    int64  \n",
      " 7   Hepatomegaly   312 non-null    int64  \n",
      " 8   Spiders        312 non-null    int64  \n",
      " 9   Edema          312 non-null    int64  \n",
      " 10  Bilirubin      312 non-null    float64\n",
      " 11  Cholesterol    312 non-null    float64\n",
      " 12  Albumin        312 non-null    float64\n",
      " 13  Copper         312 non-null    float64\n",
      " 14  Alk_Phos       312 non-null    float64\n",
      " 15  SGOT           312 non-null    float64\n",
      " 16  Tryglicerides  312 non-null    float64\n",
      " 17  Platelets      312 non-null    float64\n",
      " 18  Prothrombin    312 non-null    float64\n",
      " 19  Stage          312 non-null    float64\n",
      "dtypes: float64(10), int64(10)\n",
      "memory usage: 51.2 KB\n"
     ]
    }
   ],
   "source": [
    "db.info()"
   ]
  },
  {
   "cell_type": "markdown",
   "metadata": {},
   "source": [
    "## Outliers"
   ]
  },
  {
   "cell_type": "code",
   "execution_count": null,
   "metadata": {},
   "outputs": [
    {
     "name": "stdout",
     "output_type": "stream",
     "text": [
      "['Bilirubin', 'Cholesterol', 'Albumin', 'Copper', 'Alk_Phos', 'SGOT', 'Tryglicerides', 'Platelets', 'Prothrombin']\n"
     ]
    },
    {
     "data": {
      "application/vnd.microsoft.datawrangler.viewer.v0+json": {
       "columns": [
        {
         "name": "index",
         "rawType": "int64",
         "type": "integer"
        },
        {
         "name": "Bilirubin",
         "rawType": "float64",
         "type": "float"
        },
        {
         "name": "Cholesterol",
         "rawType": "float64",
         "type": "float"
        },
        {
         "name": "Albumin",
         "rawType": "float64",
         "type": "float"
        },
        {
         "name": "Copper",
         "rawType": "float64",
         "type": "float"
        },
        {
         "name": "Alk_Phos",
         "rawType": "float64",
         "type": "float"
        },
        {
         "name": "SGOT",
         "rawType": "float64",
         "type": "float"
        },
        {
         "name": "Tryglicerides",
         "rawType": "float64",
         "type": "float"
        },
        {
         "name": "Platelets",
         "rawType": "float64",
         "type": "float"
        },
        {
         "name": "Prothrombin",
         "rawType": "float64",
         "type": "float"
        }
       ],
       "conversionMethod": "pd.DataFrame",
       "ref": "3f77b81a-1cd9-4f8a-a068-891097e8bc36",
       "rows": [
        [
         "0",
         "14.5",
         "261.0",
         "2.6",
         "156.0",
         "1718.0",
         "137.95",
         "172.0",
         "190.0",
         "12.2"
        ],
        [
         "1",
         "1.1",
         "302.0",
         "4.14",
         "54.0",
         "7394.8",
         "113.52",
         "88.0",
         "221.0",
         "10.6"
        ],
        [
         "2",
         "1.4",
         "176.0",
         "3.48",
         "210.0",
         "516.0",
         "96.1",
         "55.0",
         "151.0",
         "12.0"
        ],
        [
         "3",
         "1.8",
         "244.0",
         "2.54",
         "64.0",
         "6121.8",
         "60.63",
         "92.0",
         "183.0",
         "10.3"
        ],
        [
         "4",
         "3.4",
         "279.0",
         "3.53",
         "143.0",
         "671.0",
         "113.15",
         "72.0",
         "136.0",
         "10.9"
        ],
        [
         "5",
         "0.8",
         "248.0",
         "3.98",
         "50.0",
         "944.0",
         "93.0",
         "63.0",
         "261.93506493506493",
         "11.0"
        ],
        [
         "6",
         "1.0",
         "322.0",
         "4.09",
         "52.0",
         "824.0",
         "60.45",
         "213.0",
         "204.0",
         "9.7"
        ],
        [
         "7",
         "0.3",
         "280.0",
         "4.0",
         "52.0",
         "4651.2",
         "28.38",
         "189.0",
         "373.0",
         "11.0"
        ],
        [
         "8",
         "3.2",
         "562.0",
         "3.08",
         "79.0",
         "2276.0",
         "144.15",
         "88.0",
         "251.0",
         "11.0"
        ],
        [
         "9",
         "12.6",
         "200.0",
         "2.74",
         "140.0",
         "918.0",
         "147.25",
         "143.0",
         "302.0",
         "11.5"
        ],
        [
         "10",
         "1.4",
         "259.0",
         "4.16",
         "46.0",
         "1104.0",
         "79.05",
         "79.0",
         "258.0",
         "12.0"
        ],
        [
         "11",
         "3.6",
         "236.0",
         "3.52",
         "94.0",
         "591.0",
         "82.15",
         "95.0",
         "71.0",
         "13.6"
        ],
        [
         "12",
         "0.7",
         "281.0",
         "3.85",
         "40.0",
         "1181.0",
         "88.35",
         "130.0",
         "244.0",
         "10.6"
        ],
        [
         "13",
         "0.8",
         "369.51056338028167",
         "2.27",
         "43.0",
         "728.0",
         "71.0",
         "124.70212765957447",
         "156.0",
         "11.0"
        ],
        [
         "14",
         "0.8",
         "231.0",
         "3.87",
         "173.0",
         "9009.8",
         "127.71",
         "96.0",
         "295.0",
         "11.0"
        ],
        [
         "15",
         "0.7",
         "204.0",
         "3.66",
         "28.0",
         "685.0",
         "72.85",
         "58.0",
         "198.0",
         "10.8"
        ],
        [
         "16",
         "2.7",
         "274.0",
         "3.15",
         "159.0",
         "1533.0",
         "117.8",
         "128.0",
         "224.0",
         "10.5"
        ],
        [
         "17",
         "11.4",
         "178.0",
         "2.8",
         "588.0",
         "961.0",
         "280.55",
         "200.0",
         "283.0",
         "12.4"
        ],
        [
         "18",
         "0.7",
         "235.0",
         "3.56",
         "39.0",
         "1881.0",
         "93.0",
         "123.0",
         "209.0",
         "11.0"
        ],
        [
         "19",
         "5.1",
         "374.0",
         "3.51",
         "140.0",
         "1919.0",
         "122.45",
         "135.0",
         "322.0",
         "13.0"
        ],
        [
         "20",
         "0.6",
         "252.0",
         "3.83",
         "41.0",
         "843.0",
         "65.1",
         "83.0",
         "336.0",
         "11.4"
        ],
        [
         "21",
         "3.4",
         "271.0",
         "3.63",
         "464.0",
         "1376.0",
         "120.9",
         "55.0",
         "173.0",
         "11.6"
        ],
        [
         "22",
         "17.4",
         "395.0",
         "2.94",
         "558.0",
         "6064.8",
         "227.04",
         "191.0",
         "214.0",
         "11.7"
        ],
        [
         "23",
         "2.1",
         "456.0",
         "4.0",
         "124.0",
         "5719.0",
         "221.88",
         "230.0",
         "70.0",
         "9.9"
        ],
        [
         "24",
         "0.7",
         "298.0",
         "4.1",
         "40.0",
         "661.0",
         "106.95",
         "66.0",
         "324.0",
         "11.3"
        ],
        [
         "25",
         "5.2",
         "1128.0",
         "3.68",
         "53.0",
         "3228.0",
         "165.85",
         "166.0",
         "421.0",
         "9.9"
        ],
        [
         "26",
         "21.6",
         "175.0",
         "3.31",
         "221.0",
         "3697.4",
         "101.91",
         "168.0",
         "80.0",
         "12.0"
        ],
        [
         "27",
         "17.2",
         "222.0",
         "3.23",
         "209.0",
         "1975.0",
         "189.1",
         "195.0",
         "144.0",
         "13.0"
        ],
        [
         "28",
         "0.7",
         "370.0",
         "3.78",
         "24.0",
         "5833.0",
         "73.53",
         "86.0",
         "390.0",
         "10.6"
        ],
        [
         "29",
         "3.6",
         "260.0",
         "2.54",
         "172.0",
         "7277.0",
         "121.26",
         "158.0",
         "124.0",
         "11.0"
        ],
        [
         "30",
         "4.7",
         "296.0",
         "3.44",
         "114.0",
         "9933.2",
         "206.4",
         "101.0",
         "195.0",
         "10.3"
        ],
        [
         "31",
         "1.8",
         "262.0",
         "3.34",
         "101.0",
         "7277.0",
         "82.56",
         "158.0",
         "286.0",
         "10.6"
        ],
        [
         "32",
         "0.8",
         "210.0",
         "3.19",
         "82.0",
         "1592.0",
         "218.55",
         "113.0",
         "180.0",
         "12.0"
        ],
        [
         "33",
         "0.8",
         "364.0",
         "3.7",
         "37.0",
         "1840.0",
         "170.5",
         "64.0",
         "273.0",
         "10.5"
        ],
        [
         "34",
         "1.2",
         "314.0",
         "3.2",
         "201.0",
         "12258.8",
         "72.24",
         "151.0",
         "431.0",
         "10.6"
        ],
        [
         "35",
         "0.3",
         "172.0",
         "3.39",
         "18.0",
         "558.0",
         "71.3",
         "96.0",
         "311.0",
         "10.6"
        ],
        [
         "36",
         "7.1",
         "334.0",
         "3.01",
         "150.0",
         "6931.2",
         "180.6",
         "118.0",
         "102.0",
         "12.0"
        ],
        [
         "37",
         "3.3",
         "383.0",
         "3.53",
         "102.0",
         "1234.0",
         "137.95",
         "87.0",
         "234.0",
         "11.0"
        ],
        [
         "38",
         "0.7",
         "282.0",
         "3.0",
         "52.0",
         "9066.8",
         "72.24",
         "111.0",
         "563.0",
         "10.6"
        ],
        [
         "39",
         "1.3",
         "369.51056338028167",
         "3.34",
         "105.0",
         "11046.6",
         "104.49",
         "124.70212765957447",
         "358.0",
         "11.0"
        ],
        [
         "40",
         "6.8",
         "369.51056338028167",
         "3.26",
         "96.0",
         "1215.0",
         "151.9",
         "124.70212765957447",
         "226.0",
         "11.7"
        ],
        [
         "41",
         "2.1",
         "369.51056338028167",
         "3.54",
         "122.0",
         "8778.0",
         "56.76",
         "124.70212765957447",
         "344.0",
         "11.0"
        ],
        [
         "42",
         "1.1",
         "361.0",
         "3.64",
         "36.0",
         "5430.2",
         "67.08",
         "89.0",
         "203.0",
         "10.6"
        ],
        [
         "43",
         "3.3",
         "299.0",
         "3.55",
         "131.0",
         "1029.0",
         "119.35",
         "50.0",
         "199.0",
         "11.7"
        ],
        [
         "44",
         "0.6",
         "369.51056338028167",
         "3.93",
         "19.0",
         "1826.0",
         "71.3",
         "124.70212765957447",
         "474.0",
         "10.9"
        ],
        [
         "45",
         "5.7",
         "482.0",
         "2.84",
         "161.0",
         "11552.0",
         "136.74",
         "165.0",
         "518.0",
         "12.7"
        ],
        [
         "46",
         "0.5",
         "316.0",
         "3.65",
         "68.0",
         "1716.0",
         "187.55",
         "71.0",
         "356.0",
         "9.8"
        ],
        [
         "47",
         "1.9",
         "259.0",
         "3.7",
         "281.0",
         "10396.8",
         "188.34",
         "178.0",
         "214.0",
         "11.0"
        ],
        [
         "48",
         "0.8",
         "369.51056338028167",
         "3.82",
         "58.0",
         "678.0",
         "97.65",
         "124.70212765957447",
         "233.0",
         "11.0"
        ],
        [
         "49",
         "1.1",
         "257.0",
         "3.36",
         "43.0",
         "1080.0",
         "106.95",
         "73.0",
         "128.0",
         "10.6"
        ]
       ],
       "shape": {
        "columns": 9,
        "rows": 312
       }
      },
      "text/html": [
       "<div>\n",
       "<style scoped>\n",
       "    .dataframe tbody tr th:only-of-type {\n",
       "        vertical-align: middle;\n",
       "    }\n",
       "\n",
       "    .dataframe tbody tr th {\n",
       "        vertical-align: top;\n",
       "    }\n",
       "\n",
       "    .dataframe thead th {\n",
       "        text-align: right;\n",
       "    }\n",
       "</style>\n",
       "<table border=\"1\" class=\"dataframe\">\n",
       "  <thead>\n",
       "    <tr style=\"text-align: right;\">\n",
       "      <th></th>\n",
       "      <th>Bilirubin</th>\n",
       "      <th>Cholesterol</th>\n",
       "      <th>Albumin</th>\n",
       "      <th>Copper</th>\n",
       "      <th>Alk_Phos</th>\n",
       "      <th>SGOT</th>\n",
       "      <th>Tryglicerides</th>\n",
       "      <th>Platelets</th>\n",
       "      <th>Prothrombin</th>\n",
       "    </tr>\n",
       "  </thead>\n",
       "  <tbody>\n",
       "    <tr>\n",
       "      <th>0</th>\n",
       "      <td>14.5</td>\n",
       "      <td>261.0</td>\n",
       "      <td>2.60</td>\n",
       "      <td>156.0</td>\n",
       "      <td>1718.0</td>\n",
       "      <td>137.95</td>\n",
       "      <td>172.0</td>\n",
       "      <td>190.0</td>\n",
       "      <td>12.2</td>\n",
       "    </tr>\n",
       "    <tr>\n",
       "      <th>1</th>\n",
       "      <td>1.1</td>\n",
       "      <td>302.0</td>\n",
       "      <td>4.14</td>\n",
       "      <td>54.0</td>\n",
       "      <td>7394.8</td>\n",
       "      <td>113.52</td>\n",
       "      <td>88.0</td>\n",
       "      <td>221.0</td>\n",
       "      <td>10.6</td>\n",
       "    </tr>\n",
       "    <tr>\n",
       "      <th>2</th>\n",
       "      <td>1.4</td>\n",
       "      <td>176.0</td>\n",
       "      <td>3.48</td>\n",
       "      <td>210.0</td>\n",
       "      <td>516.0</td>\n",
       "      <td>96.10</td>\n",
       "      <td>55.0</td>\n",
       "      <td>151.0</td>\n",
       "      <td>12.0</td>\n",
       "    </tr>\n",
       "    <tr>\n",
       "      <th>3</th>\n",
       "      <td>1.8</td>\n",
       "      <td>244.0</td>\n",
       "      <td>2.54</td>\n",
       "      <td>64.0</td>\n",
       "      <td>6121.8</td>\n",
       "      <td>60.63</td>\n",
       "      <td>92.0</td>\n",
       "      <td>183.0</td>\n",
       "      <td>10.3</td>\n",
       "    </tr>\n",
       "    <tr>\n",
       "      <th>4</th>\n",
       "      <td>3.4</td>\n",
       "      <td>279.0</td>\n",
       "      <td>3.53</td>\n",
       "      <td>143.0</td>\n",
       "      <td>671.0</td>\n",
       "      <td>113.15</td>\n",
       "      <td>72.0</td>\n",
       "      <td>136.0</td>\n",
       "      <td>10.9</td>\n",
       "    </tr>\n",
       "    <tr>\n",
       "      <th>...</th>\n",
       "      <td>...</td>\n",
       "      <td>...</td>\n",
       "      <td>...</td>\n",
       "      <td>...</td>\n",
       "      <td>...</td>\n",
       "      <td>...</td>\n",
       "      <td>...</td>\n",
       "      <td>...</td>\n",
       "      <td>...</td>\n",
       "    </tr>\n",
       "    <tr>\n",
       "      <th>307</th>\n",
       "      <td>0.4</td>\n",
       "      <td>246.0</td>\n",
       "      <td>3.58</td>\n",
       "      <td>24.0</td>\n",
       "      <td>797.0</td>\n",
       "      <td>91.00</td>\n",
       "      <td>113.0</td>\n",
       "      <td>288.0</td>\n",
       "      <td>10.4</td>\n",
       "    </tr>\n",
       "    <tr>\n",
       "      <th>308</th>\n",
       "      <td>0.4</td>\n",
       "      <td>260.0</td>\n",
       "      <td>2.75</td>\n",
       "      <td>41.0</td>\n",
       "      <td>1166.0</td>\n",
       "      <td>70.00</td>\n",
       "      <td>82.0</td>\n",
       "      <td>231.0</td>\n",
       "      <td>10.8</td>\n",
       "    </tr>\n",
       "    <tr>\n",
       "      <th>309</th>\n",
       "      <td>1.7</td>\n",
       "      <td>434.0</td>\n",
       "      <td>3.35</td>\n",
       "      <td>39.0</td>\n",
       "      <td>1713.0</td>\n",
       "      <td>171.00</td>\n",
       "      <td>100.0</td>\n",
       "      <td>234.0</td>\n",
       "      <td>10.2</td>\n",
       "    </tr>\n",
       "    <tr>\n",
       "      <th>310</th>\n",
       "      <td>2.0</td>\n",
       "      <td>247.0</td>\n",
       "      <td>3.16</td>\n",
       "      <td>69.0</td>\n",
       "      <td>1050.0</td>\n",
       "      <td>117.00</td>\n",
       "      <td>88.0</td>\n",
       "      <td>335.0</td>\n",
       "      <td>10.5</td>\n",
       "    </tr>\n",
       "    <tr>\n",
       "      <th>311</th>\n",
       "      <td>6.4</td>\n",
       "      <td>576.0</td>\n",
       "      <td>3.79</td>\n",
       "      <td>186.0</td>\n",
       "      <td>2115.0</td>\n",
       "      <td>136.00</td>\n",
       "      <td>149.0</td>\n",
       "      <td>200.0</td>\n",
       "      <td>10.8</td>\n",
       "    </tr>\n",
       "  </tbody>\n",
       "</table>\n",
       "<p>312 rows × 9 columns</p>\n",
       "</div>"
      ],
      "text/plain": [
       "     Bilirubin  Cholesterol  Albumin  Copper  Alk_Phos    SGOT  Tryglicerides  \\\n",
       "0         14.5        261.0     2.60   156.0    1718.0  137.95          172.0   \n",
       "1          1.1        302.0     4.14    54.0    7394.8  113.52           88.0   \n",
       "2          1.4        176.0     3.48   210.0     516.0   96.10           55.0   \n",
       "3          1.8        244.0     2.54    64.0    6121.8   60.63           92.0   \n",
       "4          3.4        279.0     3.53   143.0     671.0  113.15           72.0   \n",
       "..         ...          ...      ...     ...       ...     ...            ...   \n",
       "307        0.4        246.0     3.58    24.0     797.0   91.00          113.0   \n",
       "308        0.4        260.0     2.75    41.0    1166.0   70.00           82.0   \n",
       "309        1.7        434.0     3.35    39.0    1713.0  171.00          100.0   \n",
       "310        2.0        247.0     3.16    69.0    1050.0  117.00           88.0   \n",
       "311        6.4        576.0     3.79   186.0    2115.0  136.00          149.0   \n",
       "\n",
       "     Platelets  Prothrombin  \n",
       "0        190.0         12.2  \n",
       "1        221.0         10.6  \n",
       "2        151.0         12.0  \n",
       "3        183.0         10.3  \n",
       "4        136.0         10.9  \n",
       "..         ...          ...  \n",
       "307      288.0         10.4  \n",
       "308      231.0         10.8  \n",
       "309      234.0         10.2  \n",
       "310      335.0         10.5  \n",
       "311      200.0         10.8  \n",
       "\n",
       "[312 rows x 9 columns]"
      ]
     },
     "execution_count": 202,
     "metadata": {},
     "output_type": "execute_result"
    }
   ],
   "source": [
    "# Identify numerical (float) variables to check for outliers\n",
    "var_num = [f for f in db.columns if db.dtypes[f] == 'float']\n",
    "var_num"
   ]
  },
  {
   "cell_type": "code",
   "execution_count": 203,
   "metadata": {},
   "outputs": [
    {
     "data": {
      "application/vnd.microsoft.datawrangler.viewer.v0+json": {
       "columns": [
        {
         "name": "index",
         "rawType": "int64",
         "type": "integer"
        },
        {
         "name": "Bilirubin",
         "rawType": "float64",
         "type": "float"
        },
        {
         "name": "Cholesterol",
         "rawType": "float64",
         "type": "float"
        },
        {
         "name": "Albumin",
         "rawType": "float64",
         "type": "float"
        },
        {
         "name": "Copper",
         "rawType": "float64",
         "type": "float"
        },
        {
         "name": "Alk_Phos",
         "rawType": "float64",
         "type": "float"
        },
        {
         "name": "SGOT",
         "rawType": "float64",
         "type": "float"
        },
        {
         "name": "Tryglicerides",
         "rawType": "float64",
         "type": "float"
        },
        {
         "name": "Platelets",
         "rawType": "float64",
         "type": "float"
        },
        {
         "name": "Prothrombin",
         "rawType": "float64",
         "type": "float"
        }
       ],
       "conversionMethod": "pd.DataFrame",
       "ref": "f3f239dd-f803-4043-b062-3cf391aa2bb6",
       "rows": [
        [
         "0",
         "14.5",
         "261.0",
         "2.6",
         "156.0",
         "1718.0",
         "137.95",
         "172.0",
         "190.0",
         "12.2"
        ],
        [
         "1",
         "1.1",
         "302.0",
         "4.14",
         "54.0",
         "7394.8",
         "113.52",
         "88.0",
         "221.0",
         "10.6"
        ],
        [
         "2",
         "1.4",
         "176.0",
         "3.48",
         "210.0",
         "516.0",
         "96.1",
         "55.0",
         "151.0",
         "12.0"
        ],
        [
         "3",
         "1.8",
         "244.0",
         "2.54",
         "64.0",
         "6121.8",
         "60.63",
         "92.0",
         "183.0",
         "10.3"
        ],
        [
         "4",
         "3.4",
         "279.0",
         "3.53",
         "143.0",
         "671.0",
         "113.15",
         "72.0",
         "136.0",
         "10.9"
        ],
        [
         "5",
         "0.8",
         "248.0",
         "3.98",
         "50.0",
         "944.0",
         "93.0",
         "63.0",
         "261.93506493506493",
         "11.0"
        ],
        [
         "6",
         "1.0",
         "322.0",
         "4.09",
         "52.0",
         "824.0",
         "60.45",
         "213.0",
         "204.0",
         "9.7"
        ],
        [
         "7",
         "0.3",
         "280.0",
         "4.0",
         "52.0",
         "4651.2",
         "28.38",
         "189.0",
         "373.0",
         "11.0"
        ],
        [
         "8",
         "3.2",
         "562.0",
         "3.08",
         "79.0",
         "2276.0",
         "144.15",
         "88.0",
         "251.0",
         "11.0"
        ],
        [
         "9",
         "12.6",
         "200.0",
         "2.74",
         "140.0",
         "918.0",
         "147.25",
         "143.0",
         "302.0",
         "11.5"
        ],
        [
         "10",
         "1.4",
         "259.0",
         "4.16",
         "46.0",
         "1104.0",
         "79.05",
         "79.0",
         "258.0",
         "12.0"
        ],
        [
         "11",
         "3.6",
         "236.0",
         "3.52",
         "94.0",
         "591.0",
         "82.15",
         "95.0",
         "71.0",
         "13.6"
        ],
        [
         "12",
         "0.7",
         "281.0",
         "3.85",
         "40.0",
         "1181.0",
         "88.35",
         "130.0",
         "244.0",
         "10.6"
        ],
        [
         "13",
         "0.8",
         "369.51056338028167",
         "2.27",
         "43.0",
         "728.0",
         "71.0",
         "124.70212765957447",
         "156.0",
         "11.0"
        ],
        [
         "14",
         "0.8",
         "231.0",
         "3.87",
         "173.0",
         "9009.8",
         "127.71",
         "96.0",
         "295.0",
         "11.0"
        ],
        [
         "15",
         "0.7",
         "204.0",
         "3.66",
         "28.0",
         "685.0",
         "72.85",
         "58.0",
         "198.0",
         "10.8"
        ],
        [
         "16",
         "2.7",
         "274.0",
         "3.15",
         "159.0",
         "1533.0",
         "117.8",
         "128.0",
         "224.0",
         "10.5"
        ],
        [
         "17",
         "11.4",
         "178.0",
         "2.8",
         "588.0",
         "961.0",
         "280.55",
         "200.0",
         "283.0",
         "12.4"
        ],
        [
         "18",
         "0.7",
         "235.0",
         "3.56",
         "39.0",
         "1881.0",
         "93.0",
         "123.0",
         "209.0",
         "11.0"
        ],
        [
         "19",
         "5.1",
         "374.0",
         "3.51",
         "140.0",
         "1919.0",
         "122.45",
         "135.0",
         "322.0",
         "13.0"
        ],
        [
         "20",
         "0.6",
         "252.0",
         "3.83",
         "41.0",
         "843.0",
         "65.1",
         "83.0",
         "336.0",
         "11.4"
        ],
        [
         "21",
         "3.4",
         "271.0",
         "3.63",
         "464.0",
         "1376.0",
         "120.9",
         "55.0",
         "173.0",
         "11.6"
        ],
        [
         "22",
         "17.4",
         "395.0",
         "2.94",
         "558.0",
         "6064.8",
         "227.04",
         "191.0",
         "214.0",
         "11.7"
        ],
        [
         "23",
         "2.1",
         "456.0",
         "4.0",
         "124.0",
         "5719.0",
         "221.88",
         "230.0",
         "70.0",
         "9.9"
        ],
        [
         "24",
         "0.7",
         "298.0",
         "4.1",
         "40.0",
         "661.0",
         "106.95",
         "66.0",
         "324.0",
         "11.3"
        ],
        [
         "25",
         "5.2",
         "1128.0",
         "3.68",
         "53.0",
         "3228.0",
         "165.85",
         "166.0",
         "421.0",
         "9.9"
        ],
        [
         "26",
         "21.6",
         "175.0",
         "3.31",
         "221.0",
         "3697.4",
         "101.91",
         "168.0",
         "80.0",
         "12.0"
        ],
        [
         "27",
         "17.2",
         "222.0",
         "3.23",
         "209.0",
         "1975.0",
         "189.1",
         "195.0",
         "144.0",
         "13.0"
        ],
        [
         "28",
         "0.7",
         "370.0",
         "3.78",
         "24.0",
         "5833.0",
         "73.53",
         "86.0",
         "390.0",
         "10.6"
        ],
        [
         "29",
         "3.6",
         "260.0",
         "2.54",
         "172.0",
         "7277.0",
         "121.26",
         "158.0",
         "124.0",
         "11.0"
        ],
        [
         "30",
         "4.7",
         "296.0",
         "3.44",
         "114.0",
         "9933.2",
         "206.4",
         "101.0",
         "195.0",
         "10.3"
        ],
        [
         "31",
         "1.8",
         "262.0",
         "3.34",
         "101.0",
         "7277.0",
         "82.56",
         "158.0",
         "286.0",
         "10.6"
        ],
        [
         "32",
         "0.8",
         "210.0",
         "3.19",
         "82.0",
         "1592.0",
         "218.55",
         "113.0",
         "180.0",
         "12.0"
        ],
        [
         "33",
         "0.8",
         "364.0",
         "3.7",
         "37.0",
         "1840.0",
         "170.5",
         "64.0",
         "273.0",
         "10.5"
        ],
        [
         "34",
         "1.2",
         "314.0",
         "3.2",
         "201.0",
         "12258.8",
         "72.24",
         "151.0",
         "431.0",
         "10.6"
        ],
        [
         "35",
         "0.3",
         "172.0",
         "3.39",
         "18.0",
         "558.0",
         "71.3",
         "96.0",
         "311.0",
         "10.6"
        ],
        [
         "36",
         "7.1",
         "334.0",
         "3.01",
         "150.0",
         "6931.2",
         "180.6",
         "118.0",
         "102.0",
         "12.0"
        ],
        [
         "37",
         "3.3",
         "383.0",
         "3.53",
         "102.0",
         "1234.0",
         "137.95",
         "87.0",
         "234.0",
         "11.0"
        ],
        [
         "38",
         "0.7",
         "282.0",
         "3.0",
         "52.0",
         "9066.8",
         "72.24",
         "111.0",
         "563.0",
         "10.6"
        ],
        [
         "39",
         "1.3",
         "369.51056338028167",
         "3.34",
         "105.0",
         "11046.6",
         "104.49",
         "124.70212765957447",
         "358.0",
         "11.0"
        ],
        [
         "40",
         "6.8",
         "369.51056338028167",
         "3.26",
         "96.0",
         "1215.0",
         "151.9",
         "124.70212765957447",
         "226.0",
         "11.7"
        ],
        [
         "41",
         "2.1",
         "369.51056338028167",
         "3.54",
         "122.0",
         "8778.0",
         "56.76",
         "124.70212765957447",
         "344.0",
         "11.0"
        ],
        [
         "42",
         "1.1",
         "361.0",
         "3.64",
         "36.0",
         "5430.2",
         "67.08",
         "89.0",
         "203.0",
         "10.6"
        ],
        [
         "43",
         "3.3",
         "299.0",
         "3.55",
         "131.0",
         "1029.0",
         "119.35",
         "50.0",
         "199.0",
         "11.7"
        ],
        [
         "44",
         "0.6",
         "369.51056338028167",
         "3.93",
         "19.0",
         "1826.0",
         "71.3",
         "124.70212765957447",
         "474.0",
         "10.9"
        ],
        [
         "45",
         "5.7",
         "482.0",
         "2.84",
         "161.0",
         "11552.0",
         "136.74",
         "165.0",
         "518.0",
         "12.7"
        ],
        [
         "46",
         "0.5",
         "316.0",
         "3.65",
         "68.0",
         "1716.0",
         "187.55",
         "71.0",
         "356.0",
         "9.8"
        ],
        [
         "47",
         "1.9",
         "259.0",
         "3.7",
         "281.0",
         "10396.8",
         "188.34",
         "178.0",
         "214.0",
         "11.0"
        ],
        [
         "48",
         "0.8",
         "369.51056338028167",
         "3.82",
         "58.0",
         "678.0",
         "97.65",
         "124.70212765957447",
         "233.0",
         "11.0"
        ],
        [
         "49",
         "1.1",
         "257.0",
         "3.36",
         "43.0",
         "1080.0",
         "106.95",
         "73.0",
         "128.0",
         "10.6"
        ]
       ],
       "shape": {
        "columns": 9,
        "rows": 312
       }
      },
      "text/html": [
       "<div>\n",
       "<style scoped>\n",
       "    .dataframe tbody tr th:only-of-type {\n",
       "        vertical-align: middle;\n",
       "    }\n",
       "\n",
       "    .dataframe tbody tr th {\n",
       "        vertical-align: top;\n",
       "    }\n",
       "\n",
       "    .dataframe thead th {\n",
       "        text-align: right;\n",
       "    }\n",
       "</style>\n",
       "<table border=\"1\" class=\"dataframe\">\n",
       "  <thead>\n",
       "    <tr style=\"text-align: right;\">\n",
       "      <th></th>\n",
       "      <th>Bilirubin</th>\n",
       "      <th>Cholesterol</th>\n",
       "      <th>Albumin</th>\n",
       "      <th>Copper</th>\n",
       "      <th>Alk_Phos</th>\n",
       "      <th>SGOT</th>\n",
       "      <th>Tryglicerides</th>\n",
       "      <th>Platelets</th>\n",
       "      <th>Prothrombin</th>\n",
       "    </tr>\n",
       "  </thead>\n",
       "  <tbody>\n",
       "    <tr>\n",
       "      <th>0</th>\n",
       "      <td>14.5</td>\n",
       "      <td>261.0</td>\n",
       "      <td>2.60</td>\n",
       "      <td>156.0</td>\n",
       "      <td>1718.0</td>\n",
       "      <td>137.95</td>\n",
       "      <td>172.0</td>\n",
       "      <td>190.0</td>\n",
       "      <td>12.2</td>\n",
       "    </tr>\n",
       "    <tr>\n",
       "      <th>1</th>\n",
       "      <td>1.1</td>\n",
       "      <td>302.0</td>\n",
       "      <td>4.14</td>\n",
       "      <td>54.0</td>\n",
       "      <td>7394.8</td>\n",
       "      <td>113.52</td>\n",
       "      <td>88.0</td>\n",
       "      <td>221.0</td>\n",
       "      <td>10.6</td>\n",
       "    </tr>\n",
       "    <tr>\n",
       "      <th>2</th>\n",
       "      <td>1.4</td>\n",
       "      <td>176.0</td>\n",
       "      <td>3.48</td>\n",
       "      <td>210.0</td>\n",
       "      <td>516.0</td>\n",
       "      <td>96.10</td>\n",
       "      <td>55.0</td>\n",
       "      <td>151.0</td>\n",
       "      <td>12.0</td>\n",
       "    </tr>\n",
       "    <tr>\n",
       "      <th>3</th>\n",
       "      <td>1.8</td>\n",
       "      <td>244.0</td>\n",
       "      <td>2.54</td>\n",
       "      <td>64.0</td>\n",
       "      <td>6121.8</td>\n",
       "      <td>60.63</td>\n",
       "      <td>92.0</td>\n",
       "      <td>183.0</td>\n",
       "      <td>10.3</td>\n",
       "    </tr>\n",
       "    <tr>\n",
       "      <th>4</th>\n",
       "      <td>3.4</td>\n",
       "      <td>279.0</td>\n",
       "      <td>3.53</td>\n",
       "      <td>143.0</td>\n",
       "      <td>671.0</td>\n",
       "      <td>113.15</td>\n",
       "      <td>72.0</td>\n",
       "      <td>136.0</td>\n",
       "      <td>10.9</td>\n",
       "    </tr>\n",
       "    <tr>\n",
       "      <th>...</th>\n",
       "      <td>...</td>\n",
       "      <td>...</td>\n",
       "      <td>...</td>\n",
       "      <td>...</td>\n",
       "      <td>...</td>\n",
       "      <td>...</td>\n",
       "      <td>...</td>\n",
       "      <td>...</td>\n",
       "      <td>...</td>\n",
       "    </tr>\n",
       "    <tr>\n",
       "      <th>307</th>\n",
       "      <td>0.4</td>\n",
       "      <td>246.0</td>\n",
       "      <td>3.58</td>\n",
       "      <td>24.0</td>\n",
       "      <td>797.0</td>\n",
       "      <td>91.00</td>\n",
       "      <td>113.0</td>\n",
       "      <td>288.0</td>\n",
       "      <td>10.4</td>\n",
       "    </tr>\n",
       "    <tr>\n",
       "      <th>308</th>\n",
       "      <td>0.4</td>\n",
       "      <td>260.0</td>\n",
       "      <td>2.75</td>\n",
       "      <td>41.0</td>\n",
       "      <td>1166.0</td>\n",
       "      <td>70.00</td>\n",
       "      <td>82.0</td>\n",
       "      <td>231.0</td>\n",
       "      <td>10.8</td>\n",
       "    </tr>\n",
       "    <tr>\n",
       "      <th>309</th>\n",
       "      <td>1.7</td>\n",
       "      <td>434.0</td>\n",
       "      <td>3.35</td>\n",
       "      <td>39.0</td>\n",
       "      <td>1713.0</td>\n",
       "      <td>171.00</td>\n",
       "      <td>100.0</td>\n",
       "      <td>234.0</td>\n",
       "      <td>10.2</td>\n",
       "    </tr>\n",
       "    <tr>\n",
       "      <th>310</th>\n",
       "      <td>2.0</td>\n",
       "      <td>247.0</td>\n",
       "      <td>3.16</td>\n",
       "      <td>69.0</td>\n",
       "      <td>1050.0</td>\n",
       "      <td>117.00</td>\n",
       "      <td>88.0</td>\n",
       "      <td>335.0</td>\n",
       "      <td>10.5</td>\n",
       "    </tr>\n",
       "    <tr>\n",
       "      <th>311</th>\n",
       "      <td>6.4</td>\n",
       "      <td>576.0</td>\n",
       "      <td>3.79</td>\n",
       "      <td>186.0</td>\n",
       "      <td>2115.0</td>\n",
       "      <td>136.00</td>\n",
       "      <td>149.0</td>\n",
       "      <td>200.0</td>\n",
       "      <td>10.8</td>\n",
       "    </tr>\n",
       "  </tbody>\n",
       "</table>\n",
       "<p>312 rows × 9 columns</p>\n",
       "</div>"
      ],
      "text/plain": [
       "     Bilirubin  Cholesterol  Albumin  Copper  Alk_Phos    SGOT  Tryglicerides  \\\n",
       "0         14.5        261.0     2.60   156.0    1718.0  137.95          172.0   \n",
       "1          1.1        302.0     4.14    54.0    7394.8  113.52           88.0   \n",
       "2          1.4        176.0     3.48   210.0     516.0   96.10           55.0   \n",
       "3          1.8        244.0     2.54    64.0    6121.8   60.63           92.0   \n",
       "4          3.4        279.0     3.53   143.0     671.0  113.15           72.0   \n",
       "..         ...          ...      ...     ...       ...     ...            ...   \n",
       "307        0.4        246.0     3.58    24.0     797.0   91.00          113.0   \n",
       "308        0.4        260.0     2.75    41.0    1166.0   70.00           82.0   \n",
       "309        1.7        434.0     3.35    39.0    1713.0  171.00          100.0   \n",
       "310        2.0        247.0     3.16    69.0    1050.0  117.00           88.0   \n",
       "311        6.4        576.0     3.79   186.0    2115.0  136.00          149.0   \n",
       "\n",
       "     Platelets  Prothrombin  \n",
       "0        190.0         12.2  \n",
       "1        221.0         10.6  \n",
       "2        151.0         12.0  \n",
       "3        183.0         10.3  \n",
       "4        136.0         10.9  \n",
       "..         ...          ...  \n",
       "307      288.0         10.4  \n",
       "308      231.0         10.8  \n",
       "309      234.0         10.2  \n",
       "310      335.0         10.5  \n",
       "311      200.0         10.8  \n",
       "\n",
       "[312 rows x 9 columns]"
      ]
     },
     "execution_count": 203,
     "metadata": {},
     "output_type": "execute_result"
    }
   ],
   "source": [
    "# Confirm numerical variables\n",
    "db[var_num]"
   ]
  },
  {
   "cell_type": "code",
   "execution_count": null,
   "metadata": {},
   "outputs": [
    {
     "data": {
      "image/png": "[encoded data removed]",
      "text/plain": [
       "<Figure size 1000x600 with 1 Axes>"
      ]
     },
     "metadata": {},
     "output_type": "display_data"
    },
    {
     "data": {
      "image/png": "[encoded data removed]",
      "text/plain": [
       "<Figure size 1000x600 with 1 Axes>"
      ]
     },
     "metadata": {},
     "output_type": "display_data"
    },
    {
     "data": {
      "image/png": "[encoded data removed]",
      "text/plain": [
       "<Figure size 1000x600 with 1 Axes>"
      ]
     },
     "metadata": {},
     "output_type": "display_data"
    },
    {
     "data": {
      "image/png": "[encoded data removed]",
      "text/plain": [
       "<Figure size 1000x600 with 1 Axes>"
      ]
     },
     "metadata": {},
     "output_type": "display_data"
    },
    {
     "data": {
      "image/png": "[encoded data removed]",
      "text/plain": [
       "<Figure size 1000x600 with 1 Axes>"
      ]
     },
     "metadata": {},
     "output_type": "display_data"
    },
    {
     "data": {
      "image/png": "[encoded data removed]",
      "text/plain": [
       "<Figure size 1000x600 with 1 Axes>"
      ]
     },
     "metadata": {},
     "output_type": "display_data"
    },
    {
     "data": {
      "image/png": "[encoded data removed]",
      "text/plain": [
       "<Figure size 1000x600 with 1 Axes>"
      ]
     },
     "metadata": {},
     "output_type": "display_data"
    },
    {
     "data": {
      "image/png": "[encoded data removed]",
      "text/plain": [
       "<Figure size 1000x600 with 1 Axes>"
      ]
     },
     "metadata": {},
     "output_type": "display_data"
    },
    {
     "data": {
      "image/png": "[encoded data removed]",
      "text/plain": [
       "<Figure size 1000x600 with 1 Axes>"
      ]
     },
     "metadata": {},
     "output_type": "display_data"
    }
   ],
   "source": [
    "# Plot boxplots for each numerical variable to check for outliers (excluding NaN)\n",
    "for col in db[var_num].columns:\n",
    "    plt.figure(figsize=(10, 6))\n",
    "    sns.boxplot(x=db[col].dropna())  # Drop NaN values before plotting\n",
    "    plt.title(f'Boxplot of {col}')\n",
    "    plt.xlabel(col)\n",
    "    plt.grid(True)\n",
    "    plt.show()"
   ]
  },
  {
   "cell_type": "code",
   "execution_count": null,
   "metadata": {},
   "outputs": [
    {
     "data": {
      "image/png": "[encoded data removed]",
      "text/plain": [
       "<Figure size 1500x1200 with 9 Axes>"
      ]
     },
     "metadata": {},
     "output_type": "display_data"
    }
   ],
   "source": [
    "# Plot boxplots for each numerical variable to check for outliers (excluding NaN)\n",
    "# Grid alternative\n",
    "\n",
    "# Set number of columns per row\n",
    "cols = 3  \n",
    "rows = (len(var_num) + cols - 1) // cols  # Round up the number of rows needed\n",
    "\n",
    "fig, axes = plt.subplots(rows, cols, figsize=(cols * 5, rows * 4))\n",
    "axes = axes.flatten()  # Flatten the axes array for easy indexing\n",
    "\n",
    "for i, col in enumerate(var_num):\n",
    "    axes[i].boxplot(db[col].dropna(), vert=False)\n",
    "    axes[i].set_title(f'Boxplot of {col}')\n",
    "    axes[i].set_xlabel(col)\n",
    "\n",
    "# Remove empty subplots (if any)\n",
    "for j in range(i+1, len(axes)):\n",
    "    fig.delaxes(axes[j])\n",
    "\n",
    "plt.tight_layout()\n",
    "plt.show()"
   ]
  },
  {
   "cell_type": "code",
   "execution_count": null,
   "metadata": {},
   "outputs": [
    {
     "data": {
      "application/vnd.microsoft.datawrangler.viewer.v0+json": {
       "columns": [
        {
         "name": "index",
         "rawType": "object",
         "type": "string"
        },
        {
         "name": "Bilirubin",
         "rawType": "float64",
         "type": "float"
        },
        {
         "name": "Cholesterol",
         "rawType": "float64",
         "type": "float"
        },
        {
         "name": "Albumin",
         "rawType": "float64",
         "type": "float"
        },
        {
         "name": "Copper",
         "rawType": "float64",
         "type": "float"
        },
        {
         "name": "Alk_Phos",
         "rawType": "float64",
         "type": "float"
        },
        {
         "name": "SGOT",
         "rawType": "float64",
         "type": "float"
        },
        {
         "name": "Tryglicerides",
         "rawType": "float64",
         "type": "float"
        },
        {
         "name": "Platelets",
         "rawType": "float64",
         "type": "float"
        },
        {
         "name": "Prothrombin",
         "rawType": "float64",
         "type": "float"
        }
       ],
       "conversionMethod": "pd.DataFrame",
       "ref": "65847e6c-e5d2-4720-b9b6-875f75d3e6ab",
       "rows": [
        [
         "count",
         "312.0",
         "312.0",
         "312.0",
         "312.0",
         "312.0",
         "312.0",
         "312.0",
         "312.0",
         "312.0"
        ],
        [
         "mean",
         "3.256089743589744",
         "369.51056338028167",
         "3.52",
         "97.6483870967742",
         "1982.6557692307692",
         "122.55634615384616",
         "124.70212765957447",
         "261.935064935065",
         "10.725641025641025"
        ],
        [
         "std",
         "4.530315332070974",
         "221.2570849652019",
         "0.41989203940875364",
         "85.33818998216822",
         "2140.38882445176",
         "56.69952486331303",
         "61.926753194144624",
         "94.99190524488763",
         "1.0043232460817413"
        ],
        [
         "min",
         "0.3",
         "120.0",
         "1.96",
         "4.0",
         "289.0",
         "26.35",
         "33.0",
         "62.0",
         "9.0"
        ],
        [
         "25%",
         "0.8",
         "255.75",
         "3.31",
         "41.75",
         "871.5",
         "80.6",
         "87.0",
         "200.0",
         "10.0"
        ],
        [
         "50%",
         "1.35",
         "322.0",
         "3.55",
         "73.0",
         "1259.0",
         "114.7",
         "114.0",
         "258.5",
         "10.6"
        ],
        [
         "75%",
         "3.425",
         "392.25",
         "3.8",
         "123.0",
         "1980.0",
         "151.9",
         "145.25",
         "322.0",
         "11.1"
        ],
        [
         "max",
         "28.0",
         "1775.0",
         "4.64",
         "588.0",
         "13862.4",
         "457.25",
         "598.0",
         "563.0",
         "17.1"
        ]
       ],
       "shape": {
        "columns": 9,
        "rows": 8
       }
      },
      "text/html": [
       "<div>\n",
       "<style scoped>\n",
       "    .dataframe tbody tr th:only-of-type {\n",
       "        vertical-align: middle;\n",
       "    }\n",
       "\n",
       "    .dataframe tbody tr th {\n",
       "        vertical-align: top;\n",
       "    }\n",
       "\n",
       "    .dataframe thead th {\n",
       "        text-align: right;\n",
       "    }\n",
       "</style>\n",
       "<table border=\"1\" class=\"dataframe\">\n",
       "  <thead>\n",
       "    <tr style=\"text-align: right;\">\n",
       "      <th></th>\n",
       "      <th>Bilirubin</th>\n",
       "      <th>Cholesterol</th>\n",
       "      <th>Albumin</th>\n",
       "      <th>Copper</th>\n",
       "      <th>Alk_Phos</th>\n",
       "      <th>SGOT</th>\n",
       "      <th>Tryglicerides</th>\n",
       "      <th>Platelets</th>\n",
       "      <th>Prothrombin</th>\n",
       "    </tr>\n",
       "  </thead>\n",
       "  <tbody>\n",
       "    <tr>\n",
       "      <th>count</th>\n",
       "      <td>312.000000</td>\n",
       "      <td>312.000000</td>\n",
       "      <td>312.000000</td>\n",
       "      <td>312.000000</td>\n",
       "      <td>312.000000</td>\n",
       "      <td>312.000000</td>\n",
       "      <td>312.000000</td>\n",
       "      <td>312.000000</td>\n",
       "      <td>312.000000</td>\n",
       "    </tr>\n",
       "    <tr>\n",
       "      <th>mean</th>\n",
       "      <td>3.256090</td>\n",
       "      <td>369.510563</td>\n",
       "      <td>3.520000</td>\n",
       "      <td>97.648387</td>\n",
       "      <td>1982.655769</td>\n",
       "      <td>122.556346</td>\n",
       "      <td>124.702128</td>\n",
       "      <td>261.935065</td>\n",
       "      <td>10.725641</td>\n",
       "    </tr>\n",
       "    <tr>\n",
       "      <th>std</th>\n",
       "      <td>4.530315</td>\n",
       "      <td>221.257085</td>\n",
       "      <td>0.419892</td>\n",
       "      <td>85.338190</td>\n",
       "      <td>2140.388824</td>\n",
       "      <td>56.699525</td>\n",
       "      <td>61.926753</td>\n",
       "      <td>94.991905</td>\n",
       "      <td>1.004323</td>\n",
       "    </tr>\n",
       "    <tr>\n",
       "      <th>min</th>\n",
       "      <td>0.300000</td>\n",
       "      <td>120.000000</td>\n",
       "      <td>1.960000</td>\n",
       "      <td>4.000000</td>\n",
       "      <td>289.000000</td>\n",
       "      <td>26.350000</td>\n",
       "      <td>33.000000</td>\n",
       "      <td>62.000000</td>\n",
       "      <td>9.000000</td>\n",
       "    </tr>\n",
       "    <tr>\n",
       "      <th>25%</th>\n",
       "      <td>0.800000</td>\n",
       "      <td>255.750000</td>\n",
       "      <td>3.310000</td>\n",
       "      <td>41.750000</td>\n",
       "      <td>871.500000</td>\n",
       "      <td>80.600000</td>\n",
       "      <td>87.000000</td>\n",
       "      <td>200.000000</td>\n",
       "      <td>10.000000</td>\n",
       "    </tr>\n",
       "    <tr>\n",
       "      <th>50%</th>\n",
       "      <td>1.350000</td>\n",
       "      <td>322.000000</td>\n",
       "      <td>3.550000</td>\n",
       "      <td>73.000000</td>\n",
       "      <td>1259.000000</td>\n",
       "      <td>114.700000</td>\n",
       "      <td>114.000000</td>\n",
       "      <td>258.500000</td>\n",
       "      <td>10.600000</td>\n",
       "    </tr>\n",
       "    <tr>\n",
       "      <th>75%</th>\n",
       "      <td>3.425000</td>\n",
       "      <td>392.250000</td>\n",
       "      <td>3.800000</td>\n",
       "      <td>123.000000</td>\n",
       "      <td>1980.000000</td>\n",
       "      <td>151.900000</td>\n",
       "      <td>145.250000</td>\n",
       "      <td>322.000000</td>\n",
       "      <td>11.100000</td>\n",
       "    </tr>\n",
       "    <tr>\n",
       "      <th>max</th>\n",
       "      <td>28.000000</td>\n",
       "      <td>1775.000000</td>\n",
       "      <td>4.640000</td>\n",
       "      <td>588.000000</td>\n",
       "      <td>13862.400000</td>\n",
       "      <td>457.250000</td>\n",
       "      <td>598.000000</td>\n",
       "      <td>563.000000</td>\n",
       "      <td>17.100000</td>\n",
       "    </tr>\n",
       "  </tbody>\n",
       "</table>\n",
       "</div>"
      ],
      "text/plain": [
       "        Bilirubin  Cholesterol     Albumin      Copper      Alk_Phos  \\\n",
       "count  312.000000   312.000000  312.000000  312.000000    312.000000   \n",
       "mean     3.256090   369.510563    3.520000   97.648387   1982.655769   \n",
       "std      4.530315   221.257085    0.419892   85.338190   2140.388824   \n",
       "min      0.300000   120.000000    1.960000    4.000000    289.000000   \n",
       "25%      0.800000   255.750000    3.310000   41.750000    871.500000   \n",
       "50%      1.350000   322.000000    3.550000   73.000000   1259.000000   \n",
       "75%      3.425000   392.250000    3.800000  123.000000   1980.000000   \n",
       "max     28.000000  1775.000000    4.640000  588.000000  13862.400000   \n",
       "\n",
       "             SGOT  Tryglicerides   Platelets  Prothrombin  \n",
       "count  312.000000     312.000000  312.000000   312.000000  \n",
       "mean   122.556346     124.702128  261.935065    10.725641  \n",
       "std     56.699525      61.926753   94.991905     1.004323  \n",
       "min     26.350000      33.000000   62.000000     9.000000  \n",
       "25%     80.600000      87.000000  200.000000    10.000000  \n",
       "50%    114.700000     114.000000  258.500000    10.600000  \n",
       "75%    151.900000     145.250000  322.000000    11.100000  \n",
       "max    457.250000     598.000000  563.000000    17.100000  "
      ]
     },
     "execution_count": 211,
     "metadata": {},
     "output_type": "execute_result"
    }
   ],
   "source": [
    "# Descriptive statistics of numerical variables\n",
    "db[var_num].describe()"
   ]
  },
  {
   "cell_type": "code",
   "execution_count": 214,
   "metadata": {},
   "outputs": [
    {
     "name": "stdout",
     "output_type": "stream",
     "text": [
      "--- Bilirubin ---\n",
      "Q1: 0.80, Q3: 3.42\n",
      "IQR: 2.62\n",
      "Lower limit: -3.14\n",
      "Upper limit: 7.36\n",
      "Outliers below lower limit: 0\n",
      "Outliers above upper limit: 30\n",
      "\n",
      "--- Cholesterol ---\n",
      "Q1: 255.75, Q3: 392.25\n",
      "IQR: 136.50\n",
      "Lower limit: 51.00\n",
      "Upper limit: 597.00\n",
      "Outliers below lower limit: 0\n",
      "Outliers above upper limit: 23\n",
      "\n",
      "--- Albumin ---\n",
      "Q1: 3.31, Q3: 3.80\n",
      "IQR: 0.49\n",
      "Lower limit: 2.58\n",
      "Upper limit: 4.53\n",
      "Outliers below lower limit: 10\n",
      "Outliers above upper limit: 1\n",
      "\n",
      "--- Copper ---\n",
      "Q1: 41.75, Q3: 123.00\n",
      "IQR: 81.25\n",
      "Lower limit: -80.12\n",
      "Upper limit: 244.88\n",
      "Outliers below lower limit: 0\n",
      "Outliers above upper limit: 17\n",
      "\n",
      "--- Alk_Phos ---\n",
      "Q1: 871.50, Q3: 1980.00\n",
      "IQR: 1108.50\n",
      "Lower limit: -791.25\n",
      "Upper limit: 3642.75\n",
      "Outliers below lower limit: 0\n",
      "Outliers above upper limit: 35\n",
      "\n",
      "--- SGOT ---\n",
      "Q1: 80.60, Q3: 151.90\n",
      "IQR: 71.30\n",
      "Lower limit: -26.35\n",
      "Upper limit: 258.85\n",
      "Outliers below lower limit: 0\n",
      "Outliers above upper limit: 7\n",
      "\n",
      "--- Tryglicerides ---\n",
      "Q1: 87.00, Q3: 145.25\n",
      "IQR: 58.25\n",
      "Lower limit: -0.38\n",
      "Upper limit: 232.62\n",
      "Outliers below lower limit: 0\n",
      "Outliers above upper limit: 13\n",
      "\n",
      "--- Platelets ---\n",
      "Q1: 200.00, Q3: 322.00\n",
      "IQR: 122.00\n",
      "Lower limit: 17.00\n",
      "Upper limit: 505.00\n",
      "Outliers below lower limit: 0\n",
      "Outliers above upper limit: 4\n",
      "\n",
      "--- Prothrombin ---\n",
      "Q1: 10.00, Q3: 11.10\n",
      "IQR: 1.10\n",
      "Lower limit: 8.35\n",
      "Upper limit: 12.75\n",
      "Outliers below lower limit: 0\n",
      "Outliers above upper limit: 14\n",
      "\n"
     ]
    }
   ],
   "source": [
    "# Calculate the IQR and identify outliers for each numerical variable\n",
    "for col in db[var_num]:\n",
    "    q1 = np.percentile(db[col].dropna(), 25)\n",
    "    q3 = np.percentile(db[col].dropna(), 75)\n",
    "    iqr = q3 - q1\n",
    "    upper_limit = q3 + 1.5 * iqr\n",
    "    lower_limit = q1 - 1.5 * iqr\n",
    "\n",
    "    print(f\"--- {col} ---\")\n",
    "    print(f\"Q1: {q1:.2f}, Q3: {q3:.2f}\")\n",
    "    print(f\"IQR: {iqr:.2f}\")\n",
    "    print(f\"Lower limit: {lower_limit:.2f}\")\n",
    "    print(f\"Upper limit: {upper_limit:.2f}\")\n",
    "    print(f\"Outliers below lower limit: {(db[col] < lower_limit).sum()}\")\n",
    "    print(f\"Outliers above upper limit: {(db[col] > upper_limit).sum()}\\n\")"
   ]
  }
 ],
 "metadata": {
  "kernelspec": {
   "display_name": "base",
   "language": "python",
   "name": "python3"
  },
  "language_info": {
   "codemirror_mode": {
    "name": "ipython",
    "version": 3
   },
   "file_extension": ".py",
   "mimetype": "text/x-python",
   "name": "python",
   "nbconvert_exporter": "python",
   "pygments_lexer": "ipython3",
   "version": "3.12.2"
  }
 },
 "nbformat": 4,
 "nbformat_minor": 2
}
